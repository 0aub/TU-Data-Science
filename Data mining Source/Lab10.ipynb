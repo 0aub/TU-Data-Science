{
 "cells": [
  {
   "cell_type": "markdown",
   "metadata": {},
   "source": [
    "## Linear Regression\n",
    "\n",
    "### 1.Simple Linear Regression\n",
    "As seen in previous labs, the first step that you should do is importing the basic packages necessary for this instruction:"
   ]
  },
  {
   "cell_type": "code",
   "execution_count": 1,
   "metadata": {},
   "outputs": [],
   "source": [
    "import numpy as np\n",
    "import matplotlib.pyplot as plt\n",
    "import pandas as pd"
   ]
  },
  {
   "cell_type": "markdown",
   "metadata": {},
   "source": [
    "Consider the IRIS data set. From the previous labs, we knew that the IRIS data contains the following descriptive features: <b>'sepal length (cm)' 'sepal width (cm)' 'petal length (cm)' 'petal width (cm)' And the “target’’ class with (“setosa”,”versicolor”,”virginica”)</b> values"
   ]
  },
  {
   "cell_type": "markdown",
   "metadata": {},
   "source": [
    "### Exercise 1.1: Create a pandas data frame from the iris dataset using load_iris () function found in sklearn library"
   ]
  },
  {
   "cell_type": "code",
   "execution_count": 2,
   "metadata": {},
   "outputs": [],
   "source": [
    "from sklearn import datasets\n",
    "\n",
    "dataset= datasets.load_iris()\n",
    "df= pd.DataFrame(dataset['data'], columns=['sepal length (cm)', 'sepal width (cm)', 'petal length (cm)', 'petal width (cm)'])"
   ]
  },
  {
   "cell_type": "code",
   "execution_count": 3,
   "metadata": {},
   "outputs": [
    {
     "data": {
      "text/html": [
       "<div>\n",
       "<style scoped>\n",
       "    .dataframe tbody tr th:only-of-type {\n",
       "        vertical-align: middle;\n",
       "    }\n",
       "\n",
       "    .dataframe tbody tr th {\n",
       "        vertical-align: top;\n",
       "    }\n",
       "\n",
       "    .dataframe thead th {\n",
       "        text-align: right;\n",
       "    }\n",
       "</style>\n",
       "<table border=\"1\" class=\"dataframe\">\n",
       "  <thead>\n",
       "    <tr style=\"text-align: right;\">\n",
       "      <th></th>\n",
       "      <th>sepal length (cm)</th>\n",
       "      <th>sepal width (cm)</th>\n",
       "      <th>petal length (cm)</th>\n",
       "      <th>petal width (cm)</th>\n",
       "    </tr>\n",
       "  </thead>\n",
       "  <tbody>\n",
       "    <tr>\n",
       "      <th>0</th>\n",
       "      <td>5.1</td>\n",
       "      <td>3.5</td>\n",
       "      <td>1.4</td>\n",
       "      <td>0.2</td>\n",
       "    </tr>\n",
       "    <tr>\n",
       "      <th>1</th>\n",
       "      <td>4.9</td>\n",
       "      <td>3.0</td>\n",
       "      <td>1.4</td>\n",
       "      <td>0.2</td>\n",
       "    </tr>\n",
       "    <tr>\n",
       "      <th>2</th>\n",
       "      <td>4.7</td>\n",
       "      <td>3.2</td>\n",
       "      <td>1.3</td>\n",
       "      <td>0.2</td>\n",
       "    </tr>\n",
       "    <tr>\n",
       "      <th>3</th>\n",
       "      <td>4.6</td>\n",
       "      <td>3.1</td>\n",
       "      <td>1.5</td>\n",
       "      <td>0.2</td>\n",
       "    </tr>\n",
       "    <tr>\n",
       "      <th>4</th>\n",
       "      <td>5.0</td>\n",
       "      <td>3.6</td>\n",
       "      <td>1.4</td>\n",
       "      <td>0.2</td>\n",
       "    </tr>\n",
       "    <tr>\n",
       "      <th>...</th>\n",
       "      <td>...</td>\n",
       "      <td>...</td>\n",
       "      <td>...</td>\n",
       "      <td>...</td>\n",
       "    </tr>\n",
       "    <tr>\n",
       "      <th>145</th>\n",
       "      <td>6.7</td>\n",
       "      <td>3.0</td>\n",
       "      <td>5.2</td>\n",
       "      <td>2.3</td>\n",
       "    </tr>\n",
       "    <tr>\n",
       "      <th>146</th>\n",
       "      <td>6.3</td>\n",
       "      <td>2.5</td>\n",
       "      <td>5.0</td>\n",
       "      <td>1.9</td>\n",
       "    </tr>\n",
       "    <tr>\n",
       "      <th>147</th>\n",
       "      <td>6.5</td>\n",
       "      <td>3.0</td>\n",
       "      <td>5.2</td>\n",
       "      <td>2.0</td>\n",
       "    </tr>\n",
       "    <tr>\n",
       "      <th>148</th>\n",
       "      <td>6.2</td>\n",
       "      <td>3.4</td>\n",
       "      <td>5.4</td>\n",
       "      <td>2.3</td>\n",
       "    </tr>\n",
       "    <tr>\n",
       "      <th>149</th>\n",
       "      <td>5.9</td>\n",
       "      <td>3.0</td>\n",
       "      <td>5.1</td>\n",
       "      <td>1.8</td>\n",
       "    </tr>\n",
       "  </tbody>\n",
       "</table>\n",
       "<p>150 rows × 4 columns</p>\n",
       "</div>"
      ],
      "text/plain": [
       "     sepal length (cm)  sepal width (cm)  petal length (cm)  petal width (cm)\n",
       "0                  5.1               3.5                1.4               0.2\n",
       "1                  4.9               3.0                1.4               0.2\n",
       "2                  4.7               3.2                1.3               0.2\n",
       "3                  4.6               3.1                1.5               0.2\n",
       "4                  5.0               3.6                1.4               0.2\n",
       "..                 ...               ...                ...               ...\n",
       "145                6.7               3.0                5.2               2.3\n",
       "146                6.3               2.5                5.0               1.9\n",
       "147                6.5               3.0                5.2               2.0\n",
       "148                6.2               3.4                5.4               2.3\n",
       "149                5.9               3.0                5.1               1.8\n",
       "\n",
       "[150 rows x 4 columns]"
      ]
     },
     "execution_count": 3,
     "metadata": {},
     "output_type": "execute_result"
    }
   ],
   "source": [
    "df"
   ]
  },
  {
   "cell_type": "markdown",
   "metadata": {},
   "source": [
    "Assume now, that we aim at finding linear function that decribe the relationship between length and with of sepal of the flower:<b> 'sepal length (cm)'and 'petal length (cm)'.</b>"
   ]
  },
  {
   "cell_type": "markdown",
   "metadata": {},
   "source": [
    "### Exercise 1.2: Slice the pandas data frame to get only 'sepal length (cm)'and ‘petal length(cm)'. [Use different data frame since we don’t need to loss other columns] "
   ]
  },
  {
   "cell_type": "code",
   "execution_count": 5,
   "metadata": {},
   "outputs": [
    {
     "name": "stdout",
     "output_type": "stream",
     "text": [
      "     sepal length  petal length\n",
      "0             5.1           1.4\n",
      "1             4.9           1.4\n",
      "2             4.7           1.3\n",
      "3             4.6           1.5\n",
      "4             5.0           1.4\n",
      "..            ...           ...\n",
      "145           6.7           5.2\n",
      "146           6.3           5.0\n",
      "147           6.5           5.2\n",
      "148           6.2           5.4\n",
      "149           5.9           5.1\n",
      "\n",
      "[150 rows x 2 columns]\n"
     ]
    }
   ],
   "source": [
    "X= df['sepal length (cm)']\n",
    "Y= df['petal length (cm)']\n",
    "Slic_df = pd.DataFrame({'sepal length': X, 'petal length': Y})\n",
    "print(Slic_df)"
   ]
  },
  {
   "cell_type": "markdown",
   "metadata": {},
   "source": [
    "To get a first impression of the given data, let's have a look at its scatter plot:"
   ]
  },
  {
   "cell_type": "code",
   "execution_count": 6,
   "metadata": {},
   "outputs": [
    {
     "data": {
      "image/png": "[encoded data removed]",
      "text/plain": [
       "<Figure size 432x288 with 1 Axes>"
      ]
     },
     "metadata": {
      "needs_background": "light"
     },
     "output_type": "display_data"
    }
   ],
   "source": [
    "plt.scatter(Slic_df[['sepal length']], Slic_df[['petal length']], color = \"r\", marker = \"x\", s = 15)\n",
    "plt.xlabel('Sepal length') \n",
    "plt.ylabel('Petal length')\n",
    "plt.title('Scatter Plot') \n",
    "plt.show()"
   ]
  },
  {
   "cell_type": "markdown",
   "metadata": {},
   "source": [
    "We can already see a linear correlation between <b> \"Sepal length\" </b>  and  <b> \"Petal length\" </b> . Assume the feature x to be descriptive, while y is our target feature. We want a linear function,"
   ]
  },
  {
   "cell_type": "markdown",
   "metadata": {},
   "source": [
    "$$ y = ax + b $$\n",
    "\n",
    ",that predicts y as accurately as possible based on x. To achieve this goal we use linear regression from the sklearn package."
   ]
  },
  {
   "cell_type": "code",
   "execution_count": 7,
   "metadata": {},
   "outputs": [],
   "source": [
    "from sklearn.linear_model import LinearRegression\n",
    "\n",
    "#define the classifier\n",
    "classifier = LinearRegression()\n",
    "\n",
    "#train the classifier\n",
    "model = classifier.fit(Slic_df[['sepal length']], Slic_df[['petal length']])"
   ]
  },
  {
   "cell_type": "markdown",
   "metadata": {},
   "source": [
    "Now we can use the classifier to predict y. We print the predictions as well as the coefficient and intercept of the linear function."
   ]
  },
  {
   "cell_type": "code",
   "execution_count": 8,
   "metadata": {},
   "outputs": [
    {
     "name": "stdout",
     "output_type": "stream",
     "text": [
      "[[2.37656482]\n",
      " [2.00487822]\n",
      " [1.63319163]\n",
      " [1.44734833]\n",
      " [2.19072152]\n",
      " [2.93409471]\n",
      " [1.44734833]\n",
      " [2.19072152]\n",
      " [1.07566173]\n",
      " [2.00487822]\n",
      " [2.93409471]\n",
      " [1.81903493]\n",
      " [1.81903493]\n",
      " [0.88981844]\n",
      " [3.6774679 ]\n",
      " [3.49162461]\n",
      " [2.93409471]\n",
      " [2.37656482]\n",
      " [3.49162461]\n",
      " [2.37656482]\n",
      " [2.93409471]\n",
      " [2.37656482]\n",
      " [1.44734833]\n",
      " [2.37656482]\n",
      " [1.81903493]\n",
      " [2.19072152]\n",
      " [2.19072152]\n",
      " [2.56240812]\n",
      " [2.56240812]\n",
      " [1.63319163]\n",
      " [1.81903493]\n",
      " [2.93409471]\n",
      " [2.56240812]\n",
      " [3.11993801]\n",
      " [2.00487822]\n",
      " [2.19072152]\n",
      " [3.11993801]\n",
      " [2.00487822]\n",
      " [1.07566173]\n",
      " [2.37656482]\n",
      " [2.19072152]\n",
      " [1.26150503]\n",
      " [1.07566173]\n",
      " [2.19072152]\n",
      " [2.37656482]\n",
      " [1.81903493]\n",
      " [2.37656482]\n",
      " [1.44734833]\n",
      " [2.74825142]\n",
      " [2.19072152]\n",
      " [5.90758748]\n",
      " [4.79252769]\n",
      " [5.72174418]\n",
      " [3.11993801]\n",
      " [4.97837099]\n",
      " [3.49162461]\n",
      " [4.60668439]\n",
      " [2.00487822]\n",
      " [5.16421429]\n",
      " [2.56240812]\n",
      " [2.19072152]\n",
      " [3.8633112 ]\n",
      " [4.0491545 ]\n",
      " [4.2349978 ]\n",
      " [3.30578131]\n",
      " [5.35005758]\n",
      " [3.30578131]\n",
      " [3.6774679 ]\n",
      " [4.4208411 ]\n",
      " [3.30578131]\n",
      " [3.8633112 ]\n",
      " [4.2349978 ]\n",
      " [4.60668439]\n",
      " [4.2349978 ]\n",
      " [4.79252769]\n",
      " [5.16421429]\n",
      " [5.53590088]\n",
      " [5.35005758]\n",
      " [4.0491545 ]\n",
      " [3.49162461]\n",
      " [3.11993801]\n",
      " [3.11993801]\n",
      " [3.6774679 ]\n",
      " [4.0491545 ]\n",
      " [2.93409471]\n",
      " [4.0491545 ]\n",
      " [5.35005758]\n",
      " [4.60668439]\n",
      " [3.30578131]\n",
      " [3.11993801]\n",
      " [3.11993801]\n",
      " [4.2349978 ]\n",
      " [3.6774679 ]\n",
      " [2.19072152]\n",
      " [3.30578131]\n",
      " [3.49162461]\n",
      " [3.49162461]\n",
      " [4.4208411 ]\n",
      " [2.37656482]\n",
      " [3.49162461]\n",
      " [4.60668439]\n",
      " [3.6774679 ]\n",
      " [6.09343078]\n",
      " [4.60668439]\n",
      " [4.97837099]\n",
      " [7.02264727]\n",
      " [2.00487822]\n",
      " [6.46511737]\n",
      " [5.35005758]\n",
      " [6.27927407]\n",
      " [4.97837099]\n",
      " [4.79252769]\n",
      " [5.53590088]\n",
      " [3.49162461]\n",
      " [3.6774679 ]\n",
      " [4.79252769]\n",
      " [4.97837099]\n",
      " [7.20849056]\n",
      " [7.20849056]\n",
      " [4.0491545 ]\n",
      " [5.72174418]\n",
      " [3.30578131]\n",
      " [7.20849056]\n",
      " [4.60668439]\n",
      " [5.35005758]\n",
      " [6.27927407]\n",
      " [4.4208411 ]\n",
      " [4.2349978 ]\n",
      " [4.79252769]\n",
      " [6.27927407]\n",
      " [6.65096067]\n",
      " [7.58017716]\n",
      " [4.79252769]\n",
      " [4.60668439]\n",
      " [4.2349978 ]\n",
      " [7.20849056]\n",
      " [4.60668439]\n",
      " [4.79252769]\n",
      " [4.0491545 ]\n",
      " [5.72174418]\n",
      " [5.35005758]\n",
      " [5.72174418]\n",
      " [3.6774679 ]\n",
      " [5.53590088]\n",
      " [5.35005758]\n",
      " [5.35005758]\n",
      " [4.60668439]\n",
      " [4.97837099]\n",
      " [4.4208411 ]\n",
      " [3.8633112 ]]\n",
      "Coefficients: \n",
      " [[1.85843298]]\n",
      "Intercept: \n",
      " [-7.10144337]\n"
     ]
    }
   ],
   "source": [
    "\n",
    "#use the trained classifier to make prediction\n",
    "y_pred = classifier.predict(Slic_df[['sepal length']])\n",
    "print(y_pred)\n",
    "\n",
    "#print coefficient (a in y=ax+b) and intercept (the constant, b in y=ax+b)\n",
    "print('Coefficients: \\n', classifier.coef_)\n",
    "print('Intercept: \\n', classifier.intercept_)"
   ]
  },
  {
   "cell_type": "markdown",
   "metadata": {},
   "source": [
    "### Exercise 1.3: Write the regression function and determine slope and intercept coefficients! <br> Regression Function: <i>simple linear regression</i>  <br> Intercept: <i>-7.10144337</i> <br>  Slop: <i>1.85843298 </i>"
   ]
  },
  {
   "cell_type": "markdown",
   "metadata": {},
   "source": [
    "### 1.2 Visualize the Regression Function\n",
    "Let's visualize our regression function with the scatterplot showing the original data set. Herefore, we use the predicted values."
   ]
  },
  {
   "cell_type": "code",
   "execution_count": 9,
   "metadata": {},
   "outputs": [
    {
     "data": {
      "image/png": "[encoded data removed]",
      "text/plain": [
       "<Figure size 432x288 with 1 Axes>"
      ]
     },
     "metadata": {
      "needs_background": "light"
     },
     "output_type": "display_data"
    }
   ],
   "source": [
    "#visualize original data points\n",
    "plt.scatter(Slic_df[['sepal length']], Slic_df[['petal length']], color = \"m\", marker = \"s\", s = 10) \n",
    "#visualize regression function\n",
    "plt.plot(Slic_df['sepal length'], y_pred, color = \"g\") \n",
    "plt.xlabel('Sepal length') \n",
    "plt.ylabel('Petal length')\n",
    "plt.title('Regression Function')\n",
    "plt.show()"
   ]
  },
  {
   "cell_type": "markdown",
   "metadata": {},
   "source": [
    "### Exercise 1.4: Build a simple linear regression for the data below. Use col1 as descriptive feature and col2 as target feature. Also plot your results. [The given here is real and represents number of infected people in KSA with Covid-19 Virus over the period 19.03.2020 and 31.03.2020] "
   ]
  },
  {
   "cell_type": "code",
   "execution_count": 10,
   "metadata": {},
   "outputs": [
    {
     "data": {
      "image/png": "[encoded data removed]",
      "text/plain": [
       "<Figure size 432x288 with 1 Axes>"
      ]
     },
     "metadata": {
      "needs_background": "light"
     },
     "output_type": "display_data"
    },
    {
     "name": "stdout",
     "output_type": "stream",
     "text": [
      "Coefficients: \n",
      " [[5.41208791]]\n",
      "Intercept: \n",
      " [-33.37912088]\n"
     ]
    }
   ],
   "source": [
    "\n",
    "df2 = pd.DataFrame({'col1': [19, 20,21,22,23,24,25,26,27,28,29,30,31], \n",
    "                    'col2': [36,70,48,119,51,205,133,112,92,99,96,154,110]})\n",
    "\n",
    "#your turn - solution\n",
    "\n",
    "#define the classifier\n",
    "classifier = LinearRegression()\n",
    "#train the classifier\n",
    "classifier.fit(df2[['col1']],df2[['col2']])\n",
    "\n",
    "#use the classifier to make prediction\n",
    "y_predict = classifier.predict(df2[['col1']])\n",
    "\n",
    "#visualize data points\n",
    "plt.scatter(df2[['col1']], df2[['col2']], color = \"m\", marker = \"o\", s = 30) \n",
    "#visualize regression function\n",
    "plt.plot(df2[['col1']], y_predict, color = \"g\") \n",
    "plt.xlabel('x') \n",
    "plt.ylabel('y') \n",
    "plt.title('title')\n",
    "plt.show()\n",
    "#print coefficient (a in y=ax+b) and intercept (the constant, b in y=ax+b)\n",
    "print('Coefficients: \\n', classifier.coef_)\n",
    "print('Intercept: \\n', classifier.intercept_)"
   ]
  },
  {
   "cell_type": "markdown",
   "metadata": {},
   "source": [
    "### Exercise 1.5:  What is the predicted value of the day [18.03.2020]? <i> 64.03846154 </i>\n",
    "\n",
    "### Is your model accurate? <i> YES</i>"
   ]
  },
  {
   "cell_type": "code",
   "execution_count": 11,
   "metadata": {},
   "outputs": [
    {
     "name": "stdout",
     "output_type": "stream",
     "text": [
      "[[64.03846154]]\n"
     ]
    }
   ],
   "source": [
    "\n",
    "Day_18 = classifier.intercept_+ classifier.coef_ * 18 \n",
    "print(Day_18)"
   ]
  },
  {
   "cell_type": "markdown",
   "metadata": {},
   "source": [
    "### 1.4 Evaluate the Model¶\n",
    "But the model and its predictions is often not enough. Let's also compute their error. The sklearn.metrics package contains several error metrics such as\n",
    "\n",
    "<li>Mean squared error</li>\n",
    "<li>Mean absolute error</li>\n",
    "<li>Mean squared log error</li>\n",
    "<li>Median absolute error</li>"
   ]
  },
  {
   "cell_type": "code",
   "execution_count": 12,
   "metadata": {},
   "outputs": [
    {
     "name": "stdout",
     "output_type": "stream",
     "text": [
      "Mean squared error:\n",
      "1572.1551141166526\n"
     ]
    }
   ],
   "source": [
    "from sklearn.metrics import mean_squared_error, mean_absolute_error\n",
    "\n",
    "print(\"Mean squared error:\")\n",
    "print(mean_squared_error(df2[['col2']], y_predict))"
   ]
  },
  {
   "cell_type": "markdown",
   "metadata": {},
   "source": [
    "We can also visualize our squared errors:"
   ]
  },
  {
   "cell_type": "code",
   "execution_count": 13,
   "metadata": {},
   "outputs": [
    {
     "data": {
      "image/png": "[encoded data removed]",
      "text/plain": [
       "<Figure size 432x288 with 1 Axes>"
      ]
     },
     "metadata": {
      "needs_background": "light"
     },
     "output_type": "display_data"
    }
   ],
   "source": [
    "plt.scatter(y_predict, (df2[['col2']] - y_predict) ** 2, color = \"blue\", s = 10,) \n",
    "plt.title(\"Squared errors\")\n",
    "## plotting line for zero error \n",
    "plt.hlines(y = 0, xmin = 0, xmax = 140, linewidth = 2) \n",
    "plt.xlabel('predicted values')\n",
    "plt.ylabel('squared error')\n",
    "plt.show()"
   ]
  },
  {
   "cell_type": "markdown",
   "metadata": {},
   "source": [
    "### Exercise 1.6:  Compute the mean absolute error and visualize the absolute errors. Play around using different error metrics."
   ]
  },
  {
   "cell_type": "code",
   "execution_count": 14,
   "metadata": {},
   "outputs": [
    {
     "name": "stdout",
     "output_type": "stream",
     "text": [
      "Mean absolute error: \n",
      "31.163144547759927\n"
     ]
    },
    {
     "data": {
      "image/png": "[encoded data removed]",
      "text/plain": [
       "<Figure size 432x288 with 1 Axes>"
      ]
     },
     "metadata": {
      "needs_background": "light"
     },
     "output_type": "display_data"
    }
   ],
   "source": [
    "print(\"Mean absolute error: \")\n",
    "print(mean_absolute_error(df2['col2'], y_predict))\n",
    "\n",
    "plt.scatter(y_predict, (df2[['col2']] - y_predict), color = \"blue\", s = 10,) \n",
    "plt.title(\"Absolute Errors\")\n",
    "plt.hlines(y = 0, xmin = 0, xmax = 140, linewidth = 2) \n",
    "plt.xlabel('predicted values')\n",
    "plt.ylabel('absolute error')\n",
    "plt.show()"
   ]
  },
  {
   "cell_type": "markdown",
   "metadata": {},
   "source": [
    "## 2. Logistic regression\n"
   ]
  },
  {
   "cell_type": "markdown",
   "metadata": {},
   "source": [
    "### 2.1 Predicting a categorical target value\n",
    "We might also encounter data sets where our target value is categorical. Here we don't transform them into numeric values, but we use a logistic regression function. Luckily, sklearn provides us with a suitable function that is similar to the linear equivalent. Similar to linear regression we can compute logistic regression on a single descriptive feature as well as multiple."
   ]
  },
  {
   "cell_type": "markdown",
   "metadata": {},
   "source": [
    "### Add the target class to the data frame.\n"
   ]
  },
  {
   "cell_type": "code",
   "execution_count": 15,
   "metadata": {},
   "outputs": [
    {
     "data": {
      "text/plain": [
       "0         setosa\n",
       "1         setosa\n",
       "2         setosa\n",
       "3         setosa\n",
       "4         setosa\n",
       "         ...    \n",
       "145    virginica\n",
       "146    virginica\n",
       "147    virginica\n",
       "148    virginica\n",
       "149    virginica\n",
       "Name: Species, Length: 150, dtype: object"
      ]
     },
     "execution_count": 15,
     "metadata": {},
     "output_type": "execute_result"
    }
   ],
   "source": [
    "df['Species']= dataset['target']\n",
    "df['Species']=df['Species'].apply(lambda x:dataset['target_names'][x])\n",
    "df['Species']"
   ]
  },
  {
   "cell_type": "markdown",
   "metadata": {},
   "source": [
    "### Exercise 2.1: Now, return back to Exercise 1.1 and add the target class to the data frame."
   ]
  },
  {
   "cell_type": "code",
   "execution_count": 16,
   "metadata": {},
   "outputs": [
    {
     "name": "stdout",
     "output_type": "stream",
     "text": [
      "Score: \n",
      " 0.6933333333333334\n",
      "Coefficients: \n",
      " [[-0.86959145]\n",
      " [ 0.01223362]\n",
      " [ 0.57972675]]\n",
      "Intercept: \n",
      " [ 4.16186636 -0.74244291 -3.9921824 ]\n"
     ]
    }
   ],
   "source": [
    "from sklearn.linear_model import LogisticRegression\n",
    "\n",
    "\n",
    "X = Slic_df[['sepal length']] #we only use the first feature as descriptive feature\n",
    "y = df['Species'] #use the species as target feature\n",
    "\n",
    "#defining and training the logistic regression model\n",
    "log_regression = LogisticRegression(solver = 'liblinear', multi_class = 'ovr')\n",
    "log_regression.fit(X, y)\n",
    "\n",
    "pred = log_regression.predict(X)\n",
    "\n",
    "print('Score: \\n', log_regression.score(X, y)) #the mean accuracy on the given test data and labels\n",
    "print('Coefficients: \\n', log_regression.coef_)\n",
    "print('Intercept: \\n', log_regression.intercept_)"
   ]
  },
  {
   "cell_type": "markdown",
   "metadata": {},
   "source": [
    "### Exercise 2.2: Now, use all descriptive features ['sepal length (cm)','sepal width (cm)','petal length (cm)', 'petal width (cm)'] to predict the target class “Species”. "
   ]
  },
  {
   "cell_type": "code",
   "execution_count": 17,
   "metadata": {},
   "outputs": [
    {
     "name": "stdout",
     "output_type": "stream",
     "text": [
      "X: \n",
      "    sepal length (cm)  sepal width (cm)  petal length (cm)  petal width (cm)\n",
      "0                5.1               3.5                1.4               0.2\n",
      "1                4.9               3.0                1.4               0.2\n",
      "2                4.7               3.2                1.3               0.2\n",
      "3                4.6               3.1                1.5               0.2\n",
      "4                5.0               3.6                1.4               0.2 \n",
      "\n",
      "y: \n",
      " 0    setosa\n",
      "1    setosa\n",
      "2    setosa\n",
      "3    setosa\n",
      "4    setosa\n",
      "Name: Species, dtype: object \n",
      "\n",
      "Score: \n",
      " 0.96\n",
      "Coefficients: \n",
      " [[ 0.41021713  1.46416217 -2.26003266 -1.02103509]\n",
      " [ 0.4275087  -1.61211605  0.5758173  -1.40617325]\n",
      " [-1.70751526 -1.53427768  2.47096755  2.55537041]]\n",
      "Intercept: \n",
      " [ 0.26421853  1.09392467 -1.21470917]\n"
     ]
    }
   ],
   "source": [
    "#we use all descriptive features, but not the target feature\n",
    "X = df.iloc[:, 0:4]\n",
    "y=df['Species']\n",
    "print('X: \\n', X.head(), '\\n')\n",
    "print('y: \\n', y.head(), '\\n')\n",
    "\n",
    "from sklearn.linear_model import LogisticRegression\n",
    "classifier3 = LogisticRegression( solver = 'liblinear', multi_class = 'ovr')\n",
    "classifier3.fit(X, y)\n",
    "\n",
    "y_pred = classifier3.predict(X)\n",
    "\n",
    "print('Score: \\n', classifier3.score(X, y))\n",
    "print('Coefficients: \\n', classifier3.coef_)\n",
    "print('Intercept: \\n', classifier3.intercept_)"
   ]
  }
 ],
 "metadata": {
  "kernelspec": {
   "display_name": "Python 3",
   "language": "python",
   "name": "python3"
  },
  "language_info": {
   "codemirror_mode": {
    "name": "ipython",
    "version": 3
   },
   "file_extension": ".py",
   "mimetype": "text/x-python",
   "name": "python",
   "nbconvert_exporter": "python",
   "pygments_lexer": "ipython3",
   "version": "3.7.4"
  }
 },
 "nbformat": 4,
 "nbformat_minor": 2
}
