{
 "cells": [
  {
   "cell_type": "markdown",
   "metadata": {},
   "source": [
    "<h1> 1. Passing Variables by value and reference </h1>"
   ]
  },
  {
   "cell_type": "code",
   "execution_count": 3,
   "metadata": {},
   "outputs": [
    {
     "name": "stdout",
     "output_type": "stream",
     "text": [
      "my favorite # is  7\n"
     ]
    }
   ],
   "source": [
    "# Example 1.1:\n",
    "\n",
    "def conform(fav):\n",
    "    fav = 42\n",
    "    return fav\n",
    "\n",
    "fav = 7\n",
    "conform(fav)\n",
    "print('my favorite # is ', fav)"
   ]
  },
  {
   "cell_type": "markdown",
   "metadata": {},
   "source": [
    "### Example 1.1 Solution\n",
    "\n",
    "\n",
    "In the main function, Did the value of fav variable change after invoking \n",
    "the main function?\n",
    "- no.\n",
    "\n",
    "Can you explain the reason behind that? \n",
    "- to change the value, you have to store the returned value into variable.\n"
   ]
  },
  {
   "cell_type": "code",
   "execution_count": null,
   "metadata": {},
   "outputs": [],
   "source": [
    "# the correct way to write Example 1.1 code\n",
    "\n",
    "def conform(fav):\n",
    "    fav = 42\n",
    "    return fav\n",
    "\n",
    "fav = 7\n",
    "fav = conform(fav)\n",
    "print('my favorite # is ', fav)"
   ]
  },
  {
   "cell_type": "code",
   "execution_count": 7,
   "metadata": {},
   "outputs": [
    {
     "name": "stdout",
     "output_type": "stream",
     "text": [
      "inside the function: {'A': 28, 'B': 25, 'C': 32, 'D': 25, 'E': 30, 'F': 28}\n",
      "outside the function: {'A': 28, 'B': 25, 'C': 32, 'D': 25, 'E': 30, 'F': 28}\n"
     ]
    }
   ],
   "source": [
    "# Example 1.2:\n",
    "\n",
    "student = {'A': 28, 'B': 25, 'C': 32, 'D': 25}\n",
    "\n",
    "def test(student):\n",
    "    new = {'E': 30, 'F': 28}\n",
    "    student.update(new)\n",
    "    print('inside the function:', student)\n",
    "\n",
    "test(student)\n",
    "print('outside the function:', student)\n"
   ]
  },
  {
   "cell_type": "markdown",
   "metadata": {},
   "source": [
    "### Example 1.2: Solution\n",
    "\n",
    "Are the outputs same in both call? Write your observation below:\n",
    "- yes, \n",
    "\n",
    "Can you explain the difference between the outputs of Example 1 and Example 2?? \n",
    "- in the Example 1 the address of the two variables is not the same\n",
    "  but in the Example 2 the address of the list is the same.\n",
    "\n"
   ]
  },
  {
   "cell_type": "markdown",
   "metadata": {},
   "source": [
    "<h1> 2. Python Classes </h1>"
   ]
  },
  {
   "cell_type": "code",
   "execution_count": 1,
   "metadata": {},
   "outputs": [
    {
     "name": "stdout",
     "output_type": "stream",
     "text": [
      "ayyub alzahem\n"
     ]
    }
   ],
   "source": [
    "# Exercise 2.1:\n",
    "'''\n",
    "Create a class Student whose two variable, name and list of courses \n",
    "studied during a semester. \n",
    "Initiate the class and display the result on Jupyter.\n",
    " Lunch the Jupyter as shown before in the previous labs.\n",
    " Write the code below on cell []. \n",
    "\n",
    "Note:\n",
    "# The class name Student ends with ‘:’. Without the colons, Python’s \n",
    "interpreter will fail to recognize the class body.  \n",
    "\n",
    "# Function __init__() is a constructor in which you can initial local \n",
    "variables of the class. \n",
    "The “self” keyword represents the instance of the class. By using “self” \n",
    "keyword, we can access the attributes and methods of the class in python. \n",
    "It binds the attributes with the given arguments. \n",
    "\n",
    "# Initialize some attributes  \n",
    "\n",
    "# std is an object that instantiates class \n",
    "Student. Since we would to pass a value during the initialization, invoking \n",
    "class’s constructor and passing the value through it is the right place to \n",
    "set the class parameters. \n",
    "'''\n",
    "\n",
    "class Student:\n",
    "    \n",
    "    def __init__(self, name):\n",
    "        self.name = name # public var\n",
    "        self.courses = [] # public var\n",
    "        self.__age = 21 # private var ( 2 underscore )\n",
    "        self._by = 1998 # protected var ( 1 underscore )\n",
    "\n",
    "std = Student('ayyub alzahem')\n",
    "print(std.name)"
   ]
  },
  {
   "cell_type": "markdown",
   "metadata": {},
   "source": [
    "<h1> 2.1. Methods  </h1>"
   ]
  },
  {
   "cell_type": "code",
   "execution_count": 12,
   "metadata": {},
   "outputs": [
    {
     "name": "stdout",
     "output_type": "stream",
     "text": [
      "ayyub alzahem\n",
      "['Python']\n"
     ]
    }
   ],
   "source": [
    "'''\n",
    " In addition to storing variables as attributes, \n",
    "  classes can have functions attached to them.\n",
    "  A function that belongs to a specific class is called a method. \n",
    "  Now, backing to what did you learn at the 2nd lab, initialize the \n",
    "  course_list found in Student class. To do that: \n",
    "  \n",
    " Click on the cell [1] where you wrote your previous code.\n",
    "  Then, below the __init__() function, write the following code:\n",
    "'''\n",
    "\n",
    "class Student:\n",
    "    \n",
    "    def __init__(self, name):\n",
    "        self.name = name\n",
    "        self.courses = []\n",
    "        \n",
    "    def add(self, course):\n",
    "        self.courses.append(course)\n",
    "    \n",
    "std = Student('ayyub alzahem')\n",
    "std.add('Python')\n",
    "print(std.name)\n",
    "print(std.courses)"
   ]
  },
  {
   "cell_type": "code",
   "execution_count": 15,
   "metadata": {},
   "outputs": [
    {
     "name": "stdout",
     "output_type": "stream",
     "text": [
      "Enter your course name to add it:\n",
      " (hint: to stop adding the courses, do not type anything)\n",
      "python\n",
      "the course added succesfully\n",
      "Enter your course name to add it:\n",
      " (hint: to stop adding the courses, do not type anything)\n",
      "c#\n",
      "the course added succesfully\n",
      "Enter your course name to add it:\n",
      " (hint: to stop adding the courses, do not type anything)\n",
      "c++\n",
      "the course added succesfully\n",
      "Enter your course name to add it:\n",
      " (hint: to stop adding the courses, do not type anything)\n",
      "\n",
      "ayyub alzahem\n",
      "['python', 'c#', 'c++']\n",
      "Enter your course name to delete it:\n",
      " (hint: to stop deleting the courses, do not type anything)\n",
      "x\n",
      "cannot find this course\n",
      "Enter your course name to delete it:\n",
      " (hint: to stop deleting the courses, do not type anything)\n",
      "c#\n",
      "the course deleted succesfully\n",
      "Enter your course name to delete it:\n",
      " (hint: to stop deleting the courses, do not type anything)\n",
      "\n",
      "['python', 'c++']\n"
     ]
    }
   ],
   "source": [
    "# Exercise 2.2: Sulotion\n",
    "'''\n",
    "In the function add(), the variable course_list is initialized by using \n",
    "the self keyword as we saw in the previous code.\n",
    "To add a new variable to the list we use the built-in function append().\n",
    "Can you explain why we did that? \n",
    "- we use the append() function to extend the list and make it larger.\n",
    "'''\n",
    "\n",
    "# Exercise 2.3: Sulotion\n",
    "'''\n",
    "Add more courses to your list. \n",
    "Hint! Use a loop to ask user to add his preferred course to the list.\n",
    "Then remove an item from the list!\n",
    "'''\n",
    "\n",
    "class Student:\n",
    "    \n",
    "    def __init__(self, name):\n",
    "        self.name = name\n",
    "        self.courses = []\n",
    "        \n",
    "    def add(self, course):\n",
    "        self.courses.append(course)\n",
    "        \n",
    "    def delete(self, course):\n",
    "        self.courses.remove(course)\n",
    "    \n",
    "std = Student('ayyub alzahem')\n",
    "\n",
    " \n",
    "while True:\n",
    "    course = input('Enter your course name to add it:'+\n",
    "                   '\\n (hint: to stop adding the courses, do not type anything)'+\n",
    "                   '\\n')\n",
    "    \n",
    "    if course != '':\n",
    "        std.add(course)\n",
    "        print('the course added succesfully')\n",
    "    else:\n",
    "        break;\n",
    "        \n",
    "print(std.name)\n",
    "print(std.courses)\n",
    "\n",
    "while True:\n",
    "    course = input('Enter your course name to delete it:'+\n",
    "                   '\\n (hint: to stop deleting the courses, do not type anything)'+\n",
    "                   '\\n')\n",
    "    \n",
    "    if course != '':\n",
    "        if course in std.courses:\n",
    "            std.delete(course)\n",
    "            print('the course deleted succesfully')\n",
    "        else:\n",
    "            print('cannot find this course')\n",
    "    else:\n",
    "        break;\n",
    "\n",
    "print(std.courses)"
   ]
  },
  {
   "cell_type": "markdown",
   "metadata": {},
   "source": [
    "<h1> 2.2. Inheritance </h1>"
   ]
  },
  {
   "cell_type": "code",
   "execution_count": 2,
   "metadata": {},
   "outputs": [
    {
     "name": "stdout",
     "output_type": "stream",
     "text": [
      "ayyub alzahem\n"
     ]
    }
   ],
   "source": [
    "class Person:\n",
    "    def __init__(self, fname, lname):\n",
    "        self.fname = fname\n",
    "        self.lname = lname\n",
    "    \n",
    "    def printname(self):\n",
    "        print(self.fname, self.lname)\n",
    "    \n",
    "class Student(Person):\n",
    "    pass\n",
    "\n",
    "std = Student('ayyub', 'alzahem')\n",
    "std.printname()"
   ]
  },
  {
   "cell_type": "code",
   "execution_count": 4,
   "metadata": {},
   "outputs": [
    {
     "name": "stdout",
     "output_type": "stream",
     "text": [
      "ayyub alzahem\n"
     ]
    }
   ],
   "source": [
    "# Exercise 2.4: Sulotion\n",
    "'''\n",
    "In the code above, the class Professor contains a pass keyword.\n",
    "What did this mean?\n",
    "- the pass keyword mean that the subclass override all the variables \n",
    "  and function from the superclass.\n",
    "'''\n",
    "\n",
    "# Exercise 2.5: Sulotion\n",
    "'''\n",
    "Replace the pass keyword in the child class with __init__() function.\n",
    "Note that The child's __init__() function overrides the inheritance of\n",
    "the parent's __init__() function.\n",
    "'''\n",
    "class Person:\n",
    "    def __init__(self, fname, lname):\n",
    "        self.fname = fname\n",
    "        self.lname = lname\n",
    "    \n",
    "    def printname(self):\n",
    "        print(self.fname, self.lname)\n",
    "    \n",
    "class Student(Person):\n",
    "    pass\n",
    "    def __init__(self, fname, lname):\n",
    "        self.fname = fname\n",
    "        self.lname = lname\n",
    "\n",
    "std = Student('ayyub', 'alzahem')\n",
    "std.printname()"
   ]
  },
  {
   "cell_type": "code",
   "execution_count": 14,
   "metadata": {},
   "outputs": [
    {
     "name": "stdout",
     "output_type": "stream",
     "text": [
      "ayyub alzahem\n",
      "21\n"
     ]
    }
   ],
   "source": [
    "# Exercise 2.3: Sulotion\n",
    "'''\n",
    "Add a new variable to child class and initialize its value.\n",
    "Print the result. Hint: to keep the inheritance of the parent's __init__()\n",
    "function, add a call to the parent's __init__() function. \n",
    "'''\n",
    "class Student(Person):\n",
    "    pass\n",
    "    age = 0\n",
    "    def __init__(self, fname, lname, age):\n",
    "        super(Student, self).__init__(fname, lname)\n",
    "        self.age = age\n",
    "\n",
    "std = Student('ayyub', 'alzahem', 21)\n",
    "std.printname()\n",
    "print(std.age)"
   ]
  },
  {
   "cell_type": "code",
   "execution_count": null,
   "metadata": {},
   "outputs": [],
   "source": []
  }
 ],
 "metadata": {
  "kernelspec": {
   "display_name": "Python 3",
   "language": "python",
   "name": "python3"
  },
  "language_info": {
   "codemirror_mode": {
    "name": "ipython",
    "version": 3
   },
   "file_extension": ".py",
   "mimetype": "text/x-python",
   "name": "python",
   "nbconvert_exporter": "python",
   "pygments_lexer": "ipython3",
   "version": "3.7.4"
  }
 },
 "nbformat": 4,
 "nbformat_minor": 2
}
