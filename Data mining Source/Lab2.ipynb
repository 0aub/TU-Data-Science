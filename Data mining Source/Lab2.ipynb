{
 "cells": [
  {
   "cell_type": "code",
   "execution_count": 1,
   "metadata": {
    "scrolled": true
   },
   "outputs": [
    {
     "name": "stdout",
     "output_type": "stream",
     "text": [
      "Help on built-in function print in module builtins:\n",
      "\n",
      "print(...)\n",
      "    print(value, ..., sep=' ', end='\\n', file=sys.stdout, flush=False)\n",
      "    \n",
      "    Prints the values to a stream, or to sys.stdout by default.\n",
      "    Optional keyword arguments:\n",
      "    file:  a file-like object (stream); defaults to the current sys.stdout.\n",
      "    sep:   string inserted between values, default a space.\n",
      "    end:   string appended after the last value, default a newline.\n",
      "    flush: whether to forcibly flush the stream.\n",
      "\n"
     ]
    }
   ],
   "source": [
    "help(print)"
   ]
  },
  {
   "cell_type": "markdown",
   "metadata": {},
   "source": [
    "<h1>1.1 Getting Started</h1>"
   ]
  },
  {
   "cell_type": "code",
   "execution_count": 3,
   "metadata": {},
   "outputs": [
    {
     "name": "stdout",
     "output_type": "stream",
     "text": [
      "3.7.4\n"
     ]
    }
   ],
   "source": [
    "from platform import python_version\n",
    "print(python_version())"
   ]
  },
  {
   "cell_type": "markdown",
   "metadata": {},
   "source": [
    "<h1> 1.2 Running </h1>"
   ]
  },
  {
   "cell_type": "code",
   "execution_count": 6,
   "metadata": {},
   "outputs": [],
   "source": [
    "# line comment\n",
    "'''\n",
    "multi\n",
    "lines\n",
    "comments\n",
    "'''\n",
    "\n",
    "# select the main function\n",
    "if __name__ == '__main__':\n",
    "    pass"
   ]
  },
  {
   "cell_type": "code",
   "execution_count": 1,
   "metadata": {},
   "outputs": [
    {
     "name": "stdout",
     "output_type": "stream",
     "text": [
      "hello, world\n"
     ]
    }
   ],
   "source": [
    "# exercise 1: Add your information to the header at the top,\n",
    "#             then add the following code.\n",
    "\n",
    "'''\n",
    "ayyub\n",
    "alzahem\n",
    "3700203\n",
    "'''\n",
    "\n",
    "if __name__ == '__main__':\n",
    "    print(\"hello, world\")"
   ]
  },
  {
   "cell_type": "markdown",
   "metadata": {},
   "source": [
    "<h1> 1.3 Basics </h1>"
   ]
  },
  {
   "cell_type": "code",
   "execution_count": 2,
   "metadata": {},
   "outputs": [
    {
     "name": "stdout",
     "output_type": "stream",
     "text": [
      "4\n",
      "2.0\n",
      "4\n",
      "0\n",
      "4\n",
      "0\n"
     ]
    }
   ],
   "source": [
    "'''\n",
    "Arithmetic: Arithmetic operations in Python can be used in the same way \n",
    "as in other programing language. Python uses the regular +, -, *, and / \n",
    "operators for addition, subtraction, multiplication and division \n",
    "respectively. It uses ** for exponentiation and % for modular division. \n",
    "'''\n",
    "# exercise 2: Demonstrate how can python do that.\n",
    "\n",
    "print(2*2)\n",
    "print(4/2)\n",
    "print(2+2)\n",
    "print(2-2)\n",
    "print(2**2) # exponenation\n",
    "print(10%2) # modular division"
   ]
  },
  {
   "cell_type": "code",
   "execution_count": 19,
   "metadata": {},
   "outputs": [
    {
     "name": "stdout",
     "output_type": "stream",
     "text": [
      "False\n",
      "True\n"
     ]
    }
   ],
   "source": [
    "'''\n",
    "Variables: Variables are used to temporarily store data.\n",
    "A single equals sign = assigns one or more values (on the right)\n",
    "to one or more variable names (on the left).\n",
    "A double equals sign == is a comparison operator that returns\n",
    "True or False. Unlike many programming languages, Python does not\n",
    "require a variable’s data type to be specified upon initialization1.\n",
    "Because of this, Python is called a dynamically typed language.  \n",
    "'''\n",
    "\n",
    "# exercise 3: Check the following and see if the outputs are the same \n",
    "#             in both cases?\n",
    "x, y = 5, 4\n",
    "\n",
    "print(x == y)\n",
    "y += 1\n",
    "print(x == y)"
   ]
  },
  {
   "cell_type": "code",
   "execution_count": 32,
   "metadata": {},
   "outputs": [
    {
     "data": {
      "text/plain": [
       "True"
      ]
     },
     "execution_count": 32,
     "metadata": {},
     "output_type": "execute_result"
    }
   ],
   "source": [
    "'''\n",
    "Functions: To define a function, use the def keyword followed by\n",
    "the function name, a parenthesized list of parameters, and a colon.\n",
    "Then indent the function body using exactly four spaces.\n",
    "Functions are defined with parameters and called with arguments,\n",
    "though the terms are often used interchangeably. Below, width and\n",
    "height are parameters for the function area(). The values 2 and 5 are\n",
    "the arguments that are passed when calling the function. \n",
    "'''\n",
    "# exercise 4: For the previous exercise, write a function\n",
    "#             that return the result of comparison.  \n",
    "\n",
    "def comparison(x, y):\n",
    "    return x == y\n",
    "\n",
    "comparison(x, y)"
   ]
  },
  {
   "cell_type": "code",
   "execution_count": 40,
   "metadata": {},
   "outputs": [
    {
     "name": "stdout",
     "output_type": "stream",
     "text": [
      "first value = 2, second value = 5, summition = 7\n"
     ]
    }
   ],
   "source": [
    "def add(x, y):\n",
    "    return x, y, x + y\n",
    "\n",
    "fv, sv, sum = add(2, 5)\n",
    "print(\"first value = {}, second value = {}, summition = {}\".format(fv,sv, sum))"
   ]
  },
  {
   "cell_type": "markdown",
   "metadata": {},
   "source": [
    "$$ V = \\frac{4}{3} \\pi r^3 $$"
   ]
  },
  {
   "cell_type": "code",
   "execution_count": 29,
   "metadata": {},
   "outputs": [
    {
     "data": {
      "text/plain": [
       "113.09733552923254"
      ]
     },
     "execution_count": 29,
     "metadata": {},
     "output_type": "execute_result"
    }
   ],
   "source": [
    "# exercise 5: The volume of a sphere with radius 𝑟 is 𝑉 = 4 3𝜋𝑟3 define a\n",
    "#             function called sphere_volume() that accepts a single parameter\n",
    "#             r. Return the volume of the sphere of radius r, using 3.14159\n",
    "#             as an approximation for 𝜋 (for now). To test your function,\n",
    "#             call it under the if __name__ == \"__main__\" clause and print \n",
    "#             the returned value. Run your file to see if your answer is \n",
    "#             what you expect it to be.\n",
    "\n",
    "\n",
    "from numpy import pi\n",
    "def sphere_volume(r):\n",
    "    return (4/3) * pi * (r ** 3)\n",
    "\n",
    "sphere_volume(3)"
   ]
  },
  {
   "cell_type": "code",
   "execution_count": 43,
   "metadata": {},
   "outputs": [
    {
     "name": "stdout",
     "output_type": "stream",
     "text": [
      "IS-372\n",
      "e\n",
      "IS-37\n",
      " Data Mining & Data Warehouse\n"
     ]
    }
   ],
   "source": [
    "# exercise 6: Using the variable Course_Name, demonstrate how to get:\n",
    "# String “IS-372”! ____________ \n",
    "# What is the result of calling Course_Name[-1] ________ \n",
    "# Course_Name [:5] ________ \n",
    "# Course_Name[6:] ___________ \n",
    "\n",
    "course_name = \"IS-372 Data Mining & Data Warehouse\"\n",
    "print(course_name[:6]) #from index 0 to 6\n",
    "print(course_name[-1]) #last character\n",
    "print(course_name[:5]) #from index 0 to 5\n",
    "print(course_name[6:]) # from index 6 to the last character"
   ]
  },
  {
   "cell_type": "markdown",
   "metadata": {},
   "source": [
    "<h1> 1.4 Lists </h1>"
   ]
  },
  {
   "cell_type": "code",
   "execution_count": 50,
   "metadata": {},
   "outputs": [
    {
     "name": "stdout",
     "output_type": "stream",
     "text": [
      "['ayyub', 21, 'medinah', 1998, 111]\n",
      "['ayyub', 21, 3, 'medinah', 1998, 111]\n",
      "['ayyub', 21, 3, 'medinah', 1998]\n",
      "['ayyub', 21, 3, 'medinah']\n"
     ]
    }
   ],
   "source": [
    "#What is the output after \n",
    "#Append () method? _________________ \n",
    "#Insert () method? __________________ \n",
    "#Remove () method? _______________________ \n",
    "#Pop () method? _________________ \n",
    "\n",
    "my_list = ['ayyub', 21, 'medinah', 1998]\n",
    "\n",
    "my_list.append(111) #add last\n",
    "print(my_list)\n",
    "\n",
    "my_list.insert(2, 3) #add in any place\n",
    "print(my_list)\n",
    "\n",
    "my_list.remove(111) #remove by value\n",
    "print(my_list)\n",
    "\n",
    "my_list.pop() #remove last\n",
    "print(my_list)"
   ]
  },
  {
   "cell_type": "markdown",
   "metadata": {},
   "source": [
    "<h1> 1.5 Tuples </h1"
   ]
  },
  {
   "cell_type": "code",
   "execution_count": 27,
   "metadata": {},
   "outputs": [
    {
     "name": "stdout",
     "output_type": "stream",
     "text": [
      "['hawk', 'dog', 'fox', 'bear', 'hunter']\n"
     ]
    }
   ],
   "source": [
    "# exercise 7: Write a function called list_ops(). Define a list with the\n",
    "#             entries \"bear\", \"ant\", \"cat\", and \"dog\", in that order. \n",
    "#             Then perform the following operations on the list: \n",
    "#             1. Append \"eagle\". \n",
    "#             2. Replace the entry at index 2 with \"fox\". \n",
    "#             3. Remove (or pop) the entry at index 1. \n",
    "#             4. Sort the list in reverse alphabetical order. \n",
    "#             5. Replace \"eagle\" with \"hawk\".\n",
    "#             (Hint: the list’s index() method may be helpful.) \n",
    "#             6. Add the string \"hunter\" to the last entry in the list. \n",
    "#             Return the resulting list. \n",
    "\n",
    "\n",
    "def list_ops():\n",
    "    list = ['bear', 'ant', 'cat', 'dog']\n",
    "    # 1\n",
    "    list.append(\"eagle\")\n",
    "    # 2\n",
    "    list.pop(2)\n",
    "    list.insert(2, \"fox\")\n",
    "    # 3\n",
    "    list.pop(1)\n",
    "    # 4\n",
    "    list.reverse()\n",
    "    # 5\n",
    "    list.insert(list.index(\"eagle\"), \"hawk\")\n",
    "    list.remove(\"eagle\")\n",
    "    # 6\n",
    "    list.append(\"hunter\")\n",
    "    \n",
    "    return list\n",
    "\n",
    "print(list_ops())"
   ]
  },
  {
   "cell_type": "markdown",
   "metadata": {},
   "source": [
    "<h1> 1.6 Sets </h1>"
   ]
  },
  {
   "cell_type": "code",
   "execution_count": 29,
   "metadata": {},
   "outputs": [
    {
     "name": "stdout",
     "output_type": "stream",
     "text": [
      "{'sami, ibrahim', 'ayyub, khaled', 'yazeed, ahmed'}\n",
      "{'aseel, nawaf', 'ayyub, khaled', 'yazeed, ahmed'}\n"
     ]
    },
    {
     "data": {
      "text/plain": [
       "{'yazeed, ahmed'}"
      ]
     },
     "execution_count": 29,
     "metadata": {},
     "output_type": "execute_result"
    }
   ],
   "source": [
    "'''\n",
    "A Python set is an unordered collection of distinct objects.\n",
    "Objects can be added to or removed from a set after its creation.\n",
    "Initialize a set with curly braces { }, separating the values by commas,\n",
    "or use set () to create an empty set. Like mathematical sets,\n",
    "Python sets have operations like union, intersection, difference,\n",
    "and symmetric difference. \n",
    "'''\n",
    "\n",
    "DataMining_Students = {'ayyub, khaled', 'sami, ibrahim', 'yazeed, ahmed'}\n",
    "print(DataMining_Students)\n",
    "\n",
    "DataMining_Students.add('aseel, nawaf') #add \n",
    "DataMining_Students.discard('sami, ibrahim') #remove\n",
    "print(DataMining_Students)\n",
    "\n",
    "Database_Students = {'ayyub, khaled', 'sami, ibrahim', 'aseel, nawaf', 'omar, shoaib'}\n",
    "\n",
    "DataMining_Students.intersection(Database_Students)\n",
    "DataMining_Students.difference(Database_Students)"
   ]
  },
  {
   "cell_type": "markdown",
   "metadata": {},
   "source": [
    "<h1> 1.7 Dictionaries </h1>"
   ]
  },
  {
   "cell_type": "code",
   "execution_count": 36,
   "metadata": {},
   "outputs": [
    {
     "name": "stdout",
     "output_type": "stream",
     "text": [
      "ayyub khaled alzahem\n",
      "dict_keys(['3700203', '3700434', '3702823'])\n",
      "dict_values(['ayyub khaled alzahem', ' ahmed ahmed ahmed', 'sami nawaf ayman'])\n"
     ]
    }
   ],
   "source": [
    "'''\n",
    "Like a set, a Python dict (dictionary) is an unordered data type.\n",
    "A dictionary stores keyvalue pairs, called items. The values of a \n",
    "dictionary are indexed by its keys. \n",
    "Dictionaries are initialized with curly braces, colons, and commas. \n",
    "Use dict () or {} to create an empty dictionary. \n",
    "'''\n",
    "\n",
    "students = {'3700203': 'ayyub khaled alzahem',\n",
    "            '3700434': ' ahmed ahmed ahmed',\n",
    "            '3702823': 'sami nawaf ayman'}\n",
    "\n",
    "print(students['3700203'])\n",
    "\n",
    "print(students.keys())\n",
    "\n",
    "print(students.values())"
   ]
  },
  {
   "cell_type": "markdown",
   "metadata": {},
   "source": [
    "<h1> 2.1 Control Flow Tools </h1>"
   ]
  },
  {
   "cell_type": "code",
   "execution_count": 40,
   "metadata": {},
   "outputs": [
    {
     "name": "stdout",
     "output_type": "stream",
     "text": [
      "D\n"
     ]
    }
   ],
   "source": [
    "'''\n",
    "An if statement executes the indented code if (and only if) \n",
    "the given condition holds. The elif statement is short for “else if”\n",
    "and can be used multiple times following an if statement, or not at all.\n",
    "The else keyword may be used at most once at the end of a series of \n",
    "if/elif statements.\n",
    "'''\n",
    "\n",
    "mark = 68\n",
    "\n",
    "if mark <= 100 and mark >= 90:\n",
    "    print(\"A\")\n",
    "elif mark < 90 and mark >= 80:\n",
    "    print(\"B\")\n",
    "elif mark < 80 and mark >= 70:\n",
    "    print(\"C\")\n",
    "elif mark < 70 and mark >= 60:\n",
    "    print(\"D\")\n",
    "else:\n",
    "    print(\"F\")"
   ]
  },
  {
   "cell_type": "markdown",
   "metadata": {},
   "source": [
    "<h1> 2.2 The While & For Loop </h1>"
   ]
  },
  {
   "cell_type": "code",
   "execution_count": 46,
   "metadata": {},
   "outputs": [
    {
     "name": "stdout",
     "output_type": "stream",
     "text": [
      "1\n",
      "2\n",
      "3\n",
      "4\n",
      "5\n",
      "6\n",
      "7\n",
      "8\n",
      "9\n",
      "1!\n",
      "2!\n",
      "3!\n",
      "4!\n",
      "5!\n",
      "6!\n",
      "7!\n",
      "8!\n",
      "9!\n"
     ]
    }
   ],
   "source": [
    "list = ['1', '2', '3', '4', '5', '6', '7', '8', '9']\n",
    "\n",
    "i = 0\n",
    "\n",
    "while i < len(list):\n",
    "    print(list[i])\n",
    "    i += 1\n",
    "\n",
    "for item in list:\n",
    "    print(item + \"!\")"
   ]
  },
  {
   "cell_type": "code",
   "execution_count": 47,
   "metadata": {},
   "outputs": [
    {
     "name": "stdout",
     "output_type": "stream",
     "text": [
      "\n",
      "s\n",
      "st\n",
      "sta\n"
     ]
    }
   ],
   "source": [
    "# exercise 8: What output is produced by the following code?\n",
    "\n",
    "s = \"stab\"  \n",
    "for i in range(len(s)):     \n",
    "    print (s[0 : i : 1])"
   ]
  }
 ],
 "metadata": {
  "kernelspec": {
   "display_name": "Python 3",
   "language": "python",
   "name": "python3"
  },
  "language_info": {
   "codemirror_mode": {
    "name": "ipython",
    "version": 3
   },
   "file_extension": ".py",
   "mimetype": "text/x-python",
   "name": "python",
   "nbconvert_exporter": "python",
   "pygments_lexer": "ipython3",
   "version": "3.7.4"
  }
 },
 "nbformat": 4,
 "nbformat_minor": 2
}
