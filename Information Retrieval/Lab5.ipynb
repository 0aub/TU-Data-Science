{
 "cells": [
  {
   "cell_type": "markdown",
   "metadata": {},
   "source": [
    "Ayyub Alzahem 3700203"
   ]
  },
  {
   "cell_type": "markdown",
   "metadata": {},
   "source": [
    "<h3>Getting Started: Similarity measures </h3>"
   ]
  },
  {
   "cell_type": "markdown",
   "metadata": {},
   "source": [
    "<h3> Do you remember what are Accuracy, Recall, Precision and\n",
    "F-score? how to compute? </h3>"
   ]
  },
  {
   "cell_type": "markdown",
   "metadata": {},
   "source": [
    "<b>Precision =</b> (TruePositives_1 + TruePositives_2) / ((TruePositives_1 + TruePositives_2) + (FalsePositives_1 + FalsePositives_2) )"
   ]
  },
  {
   "cell_type": "markdown",
   "metadata": {},
   "source": [
    "<b>Recall =</b> (TruePositives_1 + TruePositives_2) / ((TruePositives_1 + TruePositives_2) + (FalseNegatives_1 + FalseNegatives_2))"
   ]
  },
  {
   "cell_type": "markdown",
   "metadata": {},
   "source": [
    "<b>F-Measure =</b> (2 * Precision * Recall) / (Precision + Recall)"
   ]
  },
  {
   "cell_type": "code",
   "execution_count": 32,
   "metadata": {},
   "outputs": [
    {
     "name": "stdout",
     "output_type": "stream",
     "text": [
      "Accuracy =  0.5555555555555556\n"
     ]
    }
   ],
   "source": [
    "from __future__ import print_function\n",
    "from nltk.metrics import *\n",
    "\n",
    "Sentence1='There are many similarity measures used in NLTK package'.split()\n",
    "Sentence2='There are many similarity measures are avaliable in NLTK '.split()\n",
    "\n",
    "print('Accuracy = ',accuracy(Sentence1,Sentence2))"
   ]
  },
  {
   "cell_type": "code",
   "execution_count": 33,
   "metadata": {},
   "outputs": [
    {
     "name": "stdout",
     "output_type": "stream",
     "text": [
      "Precision =  0.875\n",
      "Recall =  0.7777777777777778\n"
     ]
    }
   ],
   "source": [
    "setSentence1=set(Sentence1)\n",
    "setSentence2=set(Sentence2)\n",
    "\n",
    "precision = precision(setSentence1,setSentence2)\n",
    "recall = recall(setSentence1,setSentence2)\n",
    "\n",
    "print('Precision = ',precision)\n",
    "print('Recall = ',recall)"
   ]
  },
  {
   "cell_type": "code",
   "execution_count": 34,
   "metadata": {},
   "outputs": [
    {
     "name": "stdout",
     "output_type": "stream",
     "text": [
      "F-measure =  0.823529411764706\n"
     ]
    }
   ],
   "source": [
    "f_measure = (2 * precision * recall) / (precision + recall)\n",
    "print('F-measure = ',f_measure)"
   ]
  },
  {
   "cell_type": "markdown",
   "metadata": {},
   "source": [
    "<h3> Exercise 1: For the given sentences, apply confusion_report\n",
    "to get similarity between sentences. Write your code below\n",
    "and the outputs. </h3>"
   ]
  },
  {
   "cell_type": "code",
   "execution_count": 35,
   "metadata": {},
   "outputs": [
    {
     "name": "stdout",
     "output_type": "stream",
     "text": [
      "Confusion Matrix \n",
      " [[0 0 0 0 1 0 0 0 0 0]\n",
      " [0 1 0 0 0 0 0 0 0 0]\n",
      " [0 0 1 0 0 0 0 0 0 0]\n",
      " [0 0 0 0 0 0 0 0 0 0]\n",
      " [0 0 0 1 0 0 0 0 0 0]\n",
      " [0 0 0 0 0 1 0 0 0 0]\n",
      " [0 0 0 0 0 0 1 0 0 0]\n",
      " [1 0 0 0 0 0 0 0 0 0]\n",
      " [0 0 0 0 0 0 0 0 1 0]\n",
      " [0 0 1 0 0 0 0 0 0 0]]\n"
     ]
    }
   ],
   "source": [
    "import seaborn as sn\n",
    "import pandas as pd\n",
    "import matplotlib.pyplot as plt\n",
    "from sklearn.metrics import confusion_matrix, classification_report\n",
    "\n",
    "confusion_matrix = confusion_matrix(Sentence1, Sentence2)\n",
    "\n",
    "print('Confusion Matrix \\n', confusion_matrix)"
   ]
  },
  {
   "cell_type": "code",
   "execution_count": 36,
   "metadata": {},
   "outputs": [
    {
     "name": "stdout",
     "output_type": "stream",
     "text": [
      "Classification Report \n",
      "               precision    recall  f1-score   support\n",
      "\n",
      "        NLTK       0.00      0.00      0.00         1\n",
      "       There       1.00      1.00      1.00         1\n",
      "         are       0.50      1.00      0.67         1\n",
      "   avaliable       0.00      0.00      0.00         0\n",
      "          in       0.00      0.00      0.00         1\n",
      "        many       1.00      1.00      1.00         1\n",
      "    measures       1.00      1.00      1.00         1\n",
      "     package       0.00      0.00      0.00         1\n",
      "  similarity       1.00      1.00      1.00         1\n",
      "        used       0.00      0.00      0.00         1\n",
      "\n",
      "    accuracy                           0.56         9\n",
      "   macro avg       0.45      0.50      0.47         9\n",
      "weighted avg       0.50      0.56      0.52         9\n",
      "\n"
     ]
    }
   ],
   "source": [
    "classification_report = classification_report(Sentence1, Sentence2)\n",
    "\n",
    "print('Classification Report \\n', classification_report)"
   ]
  },
  {
   "cell_type": "code",
   "execution_count": 37,
   "metadata": {},
   "outputs": [
    {
     "data": {
      "text/plain": [
       "<matplotlib.axes._subplots.AxesSubplot at 0x2bbf418aa08>"
      ]
     },
     "execution_count": 37,
     "metadata": {},
     "output_type": "execute_result"
    },
    {
     "data": {
      "image/png": "[encoded data removed]",
      "text/plain": [
       "<Figure size 720x504 with 2 Axes>"
      ]
     },
     "metadata": {
      "needs_background": "light"
     },
     "output_type": "display_data"
    }
   ],
   "source": [
    "df_cm = pd.DataFrame(confusion_matrix)\n",
    "\n",
    "plt.figure(figsize = (10,7))\n",
    "sn.heatmap(df_cm, annot=True, annot_kws={\"size\": 16})"
   ]
  },
  {
   "cell_type": "markdown",
   "metadata": {},
   "source": [
    "<h2> Similarity Measures in NLTK</h2>"
   ]
  },
  {
   "cell_type": "markdown",
   "metadata": {},
   "source": [
    "<h3> Ethe edit distance algorithm (Levenshtien distance) </h3>"
   ]
  },
  {
   "cell_type": "markdown",
   "metadata": {},
   "source": [
    "<h3> Exercise 2: For the two above words “relate” and\n",
    "“relation”, What is the edit distance? Why? Write Steps!\n",
    "Calculate the edit distance between “suggestion” and\n",
    "“calculation”!  </h3>"
   ]
  },
  {
   "cell_type": "markdown",
   "metadata": {},
   "source": [
    "<b>edit distance</b> is a way of quantifying how dissimilar two strings."
   ]
  },
  {
   "cell_type": "code",
   "execution_count": 39,
   "metadata": {},
   "outputs": [
    {
     "name": "stdout",
     "output_type": "stream",
     "text": [
      "3\n",
      "7\n"
     ]
    }
   ],
   "source": [
    "import nltk\n",
    "from nltk.metrics import *\n",
    "\n",
    "print(edit_distance(\"relate\",\"relation\"))\n",
    "print(edit_distance(\"suggestion\",\"calculation\"))"
   ]
  },
  {
   "cell_type": "markdown",
   "metadata": {},
   "source": [
    "<h3>  Jaccard's Coefficient </h3>"
   ]
  },
  {
   "cell_type": "markdown",
   "metadata": {},
   "source": [
    "<b>Jaccard's coefficient</b>, or <b>Tanimoto coefficient</b>, may be defined as a measure of\n",
    "the overlap of two sets, X and Y. It may be defined as follows:\n",
    "\n",
    "Jaccard(𝑋, 𝑌) = |𝑋 ∩ 𝑌|/|𝑋𝑈𝑌|\n",
    "<br>\n",
    "Jaccard(𝑋, 𝑋) = 1\n",
    "<br>\n",
    "Jaccard(𝑋, 𝑌) = 0 𝑖𝑓 𝑋 ∩ 𝑌 = 0 "
   ]
  },
  {
   "cell_type": "code",
   "execution_count": 40,
   "metadata": {},
   "outputs": [
    {
     "name": "stdout",
     "output_type": "stream",
     "text": [
      "0.3\n"
     ]
    }
   ],
   "source": [
    "import nltk\n",
    "from nltk.metrics import *\n",
    "\n",
    "def jacc_similarity(query, document):\n",
    "    first=set(query).intersection(set(document))\n",
    "    second=set(query).union(set(document))\n",
    "    return len(first)/len(second) \n",
    "\n",
    "X = set(Sentence1)\n",
    "Y = set(Sentence2)\n",
    "\n",
    "print(jaccard_distance(X,Y)) "
   ]
  },
  {
   "cell_type": "markdown",
   "metadata": {},
   "source": [
    "<h2> Other string similarity metrics  \n",
    "</h2>"
   ]
  },
  {
   "cell_type": "markdown",
   "metadata": {},
   "source": [
    "<h3> Binary distance </h3>"
   ]
  },
  {
   "cell_type": "markdown",
   "metadata": {},
   "source": [
    "<b>Binary distance</b> is a string similarity metric. It returns the value 0.0 if two labels are\n",
    "identical; otherwise, it returns the value 1.0."
   ]
  },
  {
   "cell_type": "code",
   "execution_count": 41,
   "metadata": {},
   "outputs": [
    {
     "data": {
      "text/plain": [
       "1.0"
      ]
     },
     "execution_count": 41,
     "metadata": {},
     "output_type": "execute_result"
    }
   ],
   "source": [
    "def binary_distance(label1, label2):\n",
    "    return 0.0 if label1 == label2 else 1.0\n",
    "\n",
    "X=set(Sentence1)\n",
    "Y=set(Sentence2)\n",
    "binary_distance(X, Y) "
   ]
  },
  {
   "cell_type": "markdown",
   "metadata": {},
   "source": [
    "<h3> Masi distance </h3>\n"
   ]
  },
  {
   "cell_type": "markdown",
   "metadata": {},
   "source": [
    "<b>Masi distance</b> is based on partial agreement when multiple labels are present. "
   ]
  },
  {
   "cell_type": "code",
   "execution_count": 42,
   "metadata": {},
   "outputs": [
    {
     "data": {
      "text/plain": [
       "0.945"
      ]
     },
     "execution_count": 42,
     "metadata": {},
     "output_type": "execute_result"
    }
   ],
   "source": [
    "def masi(label1, label2):\n",
    "    len_intersection = len(label1.intersection(label2))\n",
    "    len_union = len(label1.union(label2))\n",
    "    len_label1 = len(label1)\n",
    "    len_label2 = len(label2) \n",
    "    if len_label1 == len_label2 and len_label1 == len_intersection:\n",
    "        m = 1\n",
    "    elif len_intersection == min(len_label1, len_label2):\n",
    "        m = 0.67\n",
    "    elif len_intersection > 0:\n",
    "        m = 0.33\n",
    "    else:\n",
    "        m = 0\n",
    "    return 1 - (len_intersection / float(len_union)) * m\n",
    "\n",
    "X=set([10,20,30,40])\n",
    "Y=set([30,50,70])\n",
    "masi(X, Y) "
   ]
  },
  {
   "cell_type": "markdown",
   "metadata": {},
   "source": [
    "<h3> Exercise 3. Given a directory, demonstrate how to apply\n",
    "similarity measures to find similar files.</h3>"
   ]
  },
  {
   "cell_type": "code",
   "execution_count": 46,
   "metadata": {},
   "outputs": [
    {
     "name": "stdout",
     "output_type": "stream",
     "text": [
      "text1\n",
      " {' ', '1', 'o', ',', 'b', 'f', 'm', 's', 'c', 'l', 'w', 'n', 'k', 'O', 'V', 'u', 'i', '9', 'p', 'a', 'D', 'q', 'v', 'y', 'd', 'h', 't', 'I', '.', 'C', 'r', 'g', '-', 'e'}\n",
      "text2\n",
      " {' ', 'o', ',', 'f', 'm', 's', 'c', 'l', 'w', 'n', 'k', 'u', 'i', 'p', 'a', 'v', 'y', 'd', 'h', 't', '.', 'C', 'r', 'g', 'e'}\n",
      "\n",
      "\n",
      "Similarity = 0.2647058823529412\n"
     ]
    }
   ],
   "source": [
    "import nltk\n",
    "from nltk.metrics import *\n",
    "\n",
    "def jacc_similarity(query, document):\n",
    "    first=set(query).intersection(set(document))\n",
    "    second=set(query).union(set(document))\n",
    "    return len(first)/len(second) \n",
    "\n",
    "file1 = open(r'C:\\Users\\ayyub\\Desktop\\file.txt').read()\n",
    "file2 = open(r'C:\\Users\\ayyub\\Desktop\\file2.txt').read()\n",
    "\n",
    "text1 = set(file1)\n",
    "text2 = set(file2)\n",
    "\n",
    "print('text1\\n',text1)\n",
    "print('text2\\n',text2)\n",
    "\n",
    "print('\\n\\nSimilarity =', jaccard_distance(text1,text2)) "
   ]
  },
  {
   "cell_type": "code",
   "execution_count": null,
   "metadata": {},
   "outputs": [],
   "source": []
  }
 ],
 "metadata": {
  "kernelspec": {
   "display_name": "Python 3",
   "language": "python",
   "name": "python3"
  },
  "language_info": {
   "codemirror_mode": {
    "name": "ipython",
    "version": 3
   },
   "file_extension": ".py",
   "mimetype": "text/x-python",
   "name": "python",
   "nbconvert_exporter": "python",
   "pygments_lexer": "ipython3",
   "version": "3.7.4"
  }
 },
 "nbformat": 4,
 "nbformat_minor": 4
}
