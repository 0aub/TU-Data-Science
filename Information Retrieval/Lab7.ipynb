{
 "cells": [
  {
   "cell_type": "markdown",
   "metadata": {},
   "source": [
    "Ayyub Alzahem 3700203"
   ]
  },
  {
   "cell_type": "markdown",
   "metadata": {},
   "source": [
    "<h2>2. Positional Index "
   ]
  },
  {
   "cell_type": "markdown",
   "metadata": {},
   "source": [
    "<h3> Exercise 1: What does the following representation mean?\n",
    "{23: [3, [0, 12, 28]]}"
   ]
  },
  {
   "cell_type": "code",
   "execution_count": 1,
   "metadata": {},
   "outputs": [
    {
     "data": {
      "text/plain": [
       "{'Hello': [5, [3, 10, 23, 27]]}"
      ]
     },
     "execution_count": 1,
     "metadata": {},
     "output_type": "execute_result"
    }
   ],
   "source": [
    "{'Hello': [5,[3,10,23,27]]}"
   ]
  },
  {
   "cell_type": "markdown",
   "metadata": {},
   "source": [
    "<h2>3. Steps to build a Positional Index \n"
   ]
  },
  {
   "cell_type": "code",
   "execution_count": 2,
   "metadata": {},
   "outputs": [],
   "source": [
    "import pandas as pd\n",
    "import numpy as np\n",
    "import nltk\n",
    "from nltk.corpus import stopwords\n",
    "from nltk.tokenize import word_tokenize\n",
    "from nltk.stem import PorterStemmer\n",
    "import os\n",
    "import string\n",
    "import copy\n",
    "import pickle "
   ]
  },
  {
   "cell_type": "code",
   "execution_count": 3,
   "metadata": {},
   "outputs": [
    {
     "data": {
      "text/plain": [
       "'C:\\\\mini_newsgroups/comp.graphics/\\\\37916'"
      ]
     },
     "execution_count": 3,
     "metadata": {},
     "output_type": "execute_result"
    }
   ],
   "source": [
    "title = \"comp.graphics\"\n",
    "os.chdir(\"C:/mini_newsgroups\")\n",
    "paths = []\n",
    "for (dirpath, dirnames, filenames) in os.walk(str(os.getcwd())+'/'+title+'/'):\n",
    "    for i in filenames:\n",
    "        paths.append(str(dirpath)+str(\"\\\\\")+i) \n",
    "\n",
    "paths[0] "
   ]
  },
  {
   "cell_type": "code",
   "execution_count": 4,
   "metadata": {},
   "outputs": [
    {
     "data": {
      "text/plain": [
       "100"
      ]
     },
     "execution_count": 4,
     "metadata": {},
     "output_type": "execute_result"
    }
   ],
   "source": [
    "len(paths)"
   ]
  },
  {
   "cell_type": "markdown",
   "metadata": {},
   "source": [
    "<h3>3.1 Preprocessing"
   ]
  },
  {
   "cell_type": "markdown",
   "metadata": {},
   "source": [
    "<h3> Exercise 2: Write a set of functions that is able to remove:\n",
    "stop words, punctuation, apostrophe, single characters, and\n",
    "header. In addition, you have to convert words into lowercase,\n",
    "stem the inter words and convert numbers to its equivalent words.\n",
    "(Hint: use the same functions that are in Lab06: unigram\n",
    "indexing) "
   ]
  },
  {
   "cell_type": "code",
   "execution_count": 5,
   "metadata": {},
   "outputs": [],
   "source": [
    "#Removing stop words \n",
    "def remove_stop_words(data):\n",
    "    stop_words = stopwords.words('english')\n",
    "    words = word_tokenize(str(data))\n",
    "    new_text = \"\"\n",
    "    for w in words:\n",
    "        if w not in stop_words:\n",
    "            new_text = new_text + \" \" + w\n",
    "    return np.char.strip(new_text) \n",
    "\n",
    "#Removing punctuation\n",
    "def remove_punctuation(data):\n",
    "    symbols = \"!\\\"#$%&()*+-./:;<=>?@[\\]^_`{|}~\\n\"\n",
    "    for i in range(len(symbols)):\n",
    "        data = np.char.replace(data, symbols[i], ' ')\n",
    "        data = np.char.replace(data, \" \", \" \")\n",
    "    data = np.char.replace(data, ',', '')\n",
    "    return data \n",
    "\n",
    "#Convert to lowercase\n",
    "def convert_lower_case(data):\n",
    "    return np.char.lower(data)\n",
    "\n",
    "#Stemming\n",
    "def stemming(data):\n",
    "    stemmer= PorterStemmer()\n",
    "\n",
    "    tokens = word_tokenize(str(data))\n",
    "    new_text = \"\"\n",
    "    for w in tokens:\n",
    "        new_text = new_text + \" \" + stemmer.stem(w)\n",
    "    return np.char.strip(new_text) \n",
    "\n",
    "#Converting numbers to its equivalent words \n",
    "def convert_numbers(data):\n",
    "    data = np.char.replace(data, \"0\", \" zero \")\n",
    "    data = np.char.replace(data, \"1\", \" one \")\n",
    "    data = np.char.replace(data, \"2\", \" two \")\n",
    "    data = np.char.replace(data, \"3\", \" three \")\n",
    "    data = np.char.replace(data, \"4\", \" four \")\n",
    "    data = np.char.replace(data, \"5\", \" five \")\n",
    "    data = np.char.replace(data, \"6\", \" six \")\n",
    "    data = np.char.replace(data, \"7\", \" seven \")\n",
    "    data = np.char.replace(data, \"8\", \" eight \")\n",
    "    data = np.char.replace(data, \"9\", \" nine \")\n",
    "    return data \n",
    "\n",
    "#Removing header \n",
    "def remove_header(data):\n",
    "    try:\n",
    "        ind = data.index('\\n\\n')\n",
    "        data = data[ind:]\n",
    "    except:\n",
    "        print(\"No Header\")\n",
    "    return data \n",
    "\n",
    "#Removing apostrophe \n",
    "def remove_apostrophe(data):\n",
    "    return np.char.replace(data, \"'\", \"\") \n",
    "\n",
    "#Removing single characters \n",
    "def remove_single_characters(data):\n",
    "    words = word_tokenize(str(data))\n",
    "    new_text = \"\"\n",
    "    for w in words:\n",
    "        if len(w) > 1:\n",
    "            new_text = new_text + \" \" + w\n",
    "    return np.char.strip(new_text)"
   ]
  },
  {
   "cell_type": "code",
   "execution_count": 6,
   "metadata": {},
   "outputs": [],
   "source": [
    "def preprocess(data, query):\n",
    "    if not query:\n",
    "        data = remove_header(data) \n",
    "        data = convert_lower_case(data)\n",
    "        data = convert_numbers(data)\n",
    "        data = remove_punctuation(data)\n",
    "        data = remove_stop_words(data)\n",
    "        data = remove_apostrophe(data)\n",
    "        data = remove_single_characters(data)\n",
    "        data = stemming(data) \n",
    "    return data"
   ]
  },
  {
   "cell_type": "markdown",
   "metadata": {},
   "source": [
    "<h3> 3.2 Generating Postings \n"
   ]
  },
  {
   "cell_type": "code",
   "execution_count": 7,
   "metadata": {},
   "outputs": [],
   "source": [
    "postings = pd.DataFrame()\n",
    "frequency = pd.DataFrame() "
   ]
  },
  {
   "cell_type": "code",
   "execution_count": 8,
   "metadata": {},
   "outputs": [
    {
     "name": "stdout",
     "output_type": "stream",
     "text": [
      "0\n"
     ]
    }
   ],
   "source": [
    "doc = 0\n",
    "for path in paths:\n",
    "    file = open(path, 'r', encoding='cp1250')\n",
    "    text = file.read().strip()\n",
    "    file.close()\n",
    "    preprocessed_text = preprocess(text, False)\n",
    "    if doc%100 == 0:\n",
    "        print(doc)\n",
    "    tokens = word_tokenize(str(preprocessed_text)) \n",
    "    \n",
    "    pos = 0\n",
    "    for token in tokens:\n",
    "        if token in postings:\n",
    "            p = postings[token][0]\n",
    "            k = [a[0] for a in p]\n",
    "            if doc in k:\n",
    "                for a in p:\n",
    "                    if a[0] == doc:\n",
    "                        a[1].add(pos)\n",
    "            else:\n",
    "                p.append([doc,{pos}])\n",
    "                frequency[token][0] += 1\n",
    "        else:\n",
    "            postings.insert(value=[[[doc, {pos}]]], loc=0, column=token)\n",
    "            frequency.insert(value=[1], loc=0, column=token)\n",
    "\n",
    "        pos += 1\n",
    "    doc += 1 "
   ]
  },
  {
   "cell_type": "code",
   "execution_count": 9,
   "metadata": {},
   "outputs": [
    {
     "data": {
      "text/html": [
       "<div>\n",
       "<style scoped>\n",
       "    .dataframe tbody tr th:only-of-type {\n",
       "        vertical-align: middle;\n",
       "    }\n",
       "\n",
       "    .dataframe tbody tr th {\n",
       "        vertical-align: top;\n",
       "    }\n",
       "\n",
       "    .dataframe thead th {\n",
       "        text-align: right;\n",
       "    }\n",
       "</style>\n",
       "<table border=\"1\" class=\"dataframe\">\n",
       "  <thead>\n",
       "    <tr style=\"text-align: right;\">\n",
       "      <th></th>\n",
       "      <th>fontmong</th>\n",
       "      <th>lazer</th>\n",
       "      <th>rip</th>\n",
       "      <th>smirk</th>\n",
       "      <th>shop</th>\n",
       "      <th>nasti</th>\n",
       "      <th>undercut</th>\n",
       "      <th>ventur</th>\n",
       "      <th>pete</th>\n",
       "      <th>truetyp</th>\n",
       "      <th>...</th>\n",
       "      <th>simpl</th>\n",
       "      <th>sipp</th>\n",
       "      <th>call</th>\n",
       "      <th>routin</th>\n",
       "      <th>render</th>\n",
       "      <th>librari</th>\n",
       "      <th>describ</th>\n",
       "      <th>file</th>\n",
       "      <th>got</th>\n",
       "      <th>recent</th>\n",
       "    </tr>\n",
       "  </thead>\n",
       "  <tbody>\n",
       "    <tr>\n",
       "      <th>0</th>\n",
       "      <td>[[99, {98}]]</td>\n",
       "      <td>[[99, {92}]]</td>\n",
       "      <td>[[99, {81}]]</td>\n",
       "      <td>[[99, {72}]]</td>\n",
       "      <td>[[99, {71}]]</td>\n",
       "      <td>[[99, {64}]]</td>\n",
       "      <td>[[99, {61}]]</td>\n",
       "      <td>[[99, {60}]]</td>\n",
       "      <td>[[99, {38}]]</td>\n",
       "      <td>[[99, {57, 76, 31}]]</td>\n",
       "      <td>...</td>\n",
       "      <td>[[0, {9}], [1, {47}], [15, {8}], [17, {1080, 4...</td>\n",
       "      <td>[[0, {8, 29}]]</td>\n",
       "      <td>[[0, {7}], [5, {43}], [10, {78}], [17, {5378, ...</td>\n",
       "      <td>[[0, {33, 6}], [5, {120, 129}], [10, {17}], [1...</td>\n",
       "      <td>[[0, {32, 5}], [1, {26}], [17, {848}], [46, {2...</td>\n",
       "      <td>[[0, {4, 31}], [1, {16}], [5, {14}], [17, {122...</td>\n",
       "      <td>[[0, {3}], [17, {1325}], [64, {2349}], [65, {4...</td>\n",
       "      <td>[[0, {2}], [5, {153, 177}], [7, {17, 30}], [8,...</td>\n",
       "      <td>[[0, {1}], [29, {54}], [33, {57}], [37, {112}]...</td>\n",
       "      <td>[[0, {0}], [5, {176}], [13, {0}], [41, {19}], ...</td>\n",
       "    </tr>\n",
       "  </tbody>\n",
       "</table>\n",
       "<p>1 rows × 4821 columns</p>\n",
       "</div>"
      ],
      "text/plain": [
       "       fontmong         lazer           rip         smirk          shop  \\\n",
       "0  [[99, {98}]]  [[99, {92}]]  [[99, {81}]]  [[99, {72}]]  [[99, {71}]]   \n",
       "\n",
       "          nasti      undercut        ventur          pete  \\\n",
       "0  [[99, {64}]]  [[99, {61}]]  [[99, {60}]]  [[99, {38}]]   \n",
       "\n",
       "                truetyp  ...  \\\n",
       "0  [[99, {57, 76, 31}]]  ...   \n",
       "\n",
       "                                               simpl            sipp  \\\n",
       "0  [[0, {9}], [1, {47}], [15, {8}], [17, {1080, 4...  [[0, {8, 29}]]   \n",
       "\n",
       "                                                call  \\\n",
       "0  [[0, {7}], [5, {43}], [10, {78}], [17, {5378, ...   \n",
       "\n",
       "                                              routin  \\\n",
       "0  [[0, {33, 6}], [5, {120, 129}], [10, {17}], [1...   \n",
       "\n",
       "                                              render  \\\n",
       "0  [[0, {32, 5}], [1, {26}], [17, {848}], [46, {2...   \n",
       "\n",
       "                                             librari  \\\n",
       "0  [[0, {4, 31}], [1, {16}], [5, {14}], [17, {122...   \n",
       "\n",
       "                                             describ  \\\n",
       "0  [[0, {3}], [17, {1325}], [64, {2349}], [65, {4...   \n",
       "\n",
       "                                                file  \\\n",
       "0  [[0, {2}], [5, {153, 177}], [7, {17, 30}], [8,...   \n",
       "\n",
       "                                                 got  \\\n",
       "0  [[0, {1}], [29, {54}], [33, {57}], [37, {112}]...   \n",
       "\n",
       "                                              recent  \n",
       "0  [[0, {0}], [5, {176}], [13, {0}], [41, {19}], ...  \n",
       "\n",
       "[1 rows x 4821 columns]"
      ]
     },
     "execution_count": 9,
     "metadata": {},
     "output_type": "execute_result"
    }
   ],
   "source": [
    "postings"
   ]
  },
  {
   "cell_type": "code",
   "execution_count": 10,
   "metadata": {},
   "outputs": [
    {
     "data": {
      "text/html": [
       "<div>\n",
       "<style scoped>\n",
       "    .dataframe tbody tr th:only-of-type {\n",
       "        vertical-align: middle;\n",
       "    }\n",
       "\n",
       "    .dataframe tbody tr th {\n",
       "        vertical-align: top;\n",
       "    }\n",
       "\n",
       "    .dataframe thead th {\n",
       "        text-align: right;\n",
       "    }\n",
       "</style>\n",
       "<table border=\"1\" class=\"dataframe\">\n",
       "  <thead>\n",
       "    <tr style=\"text-align: right;\">\n",
       "      <th></th>\n",
       "      <th>fontmong</th>\n",
       "      <th>lazer</th>\n",
       "      <th>rip</th>\n",
       "      <th>smirk</th>\n",
       "      <th>shop</th>\n",
       "      <th>nasti</th>\n",
       "      <th>undercut</th>\n",
       "      <th>ventur</th>\n",
       "      <th>pete</th>\n",
       "      <th>truetyp</th>\n",
       "      <th>...</th>\n",
       "      <th>simpl</th>\n",
       "      <th>sipp</th>\n",
       "      <th>call</th>\n",
       "      <th>routin</th>\n",
       "      <th>render</th>\n",
       "      <th>librari</th>\n",
       "      <th>describ</th>\n",
       "      <th>file</th>\n",
       "      <th>got</th>\n",
       "      <th>recent</th>\n",
       "    </tr>\n",
       "  </thead>\n",
       "  <tbody>\n",
       "    <tr>\n",
       "      <th>0</th>\n",
       "      <td>1</td>\n",
       "      <td>1</td>\n",
       "      <td>1</td>\n",
       "      <td>1</td>\n",
       "      <td>1</td>\n",
       "      <td>1</td>\n",
       "      <td>1</td>\n",
       "      <td>1</td>\n",
       "      <td>1</td>\n",
       "      <td>1</td>\n",
       "      <td>...</td>\n",
       "      <td>7</td>\n",
       "      <td>1</td>\n",
       "      <td>9</td>\n",
       "      <td>9</td>\n",
       "      <td>12</td>\n",
       "      <td>14</td>\n",
       "      <td>6</td>\n",
       "      <td>26</td>\n",
       "      <td>12</td>\n",
       "      <td>6</td>\n",
       "    </tr>\n",
       "  </tbody>\n",
       "</table>\n",
       "<p>1 rows × 4821 columns</p>\n",
       "</div>"
      ],
      "text/plain": [
       "   fontmong  lazer  rip  smirk  shop  nasti  undercut  ventur  pete  truetyp  \\\n",
       "0         1      1    1      1     1      1         1       1     1        1   \n",
       "\n",
       "   ...  simpl  sipp  call  routin  render  librari  describ  file  got  recent  \n",
       "0  ...      7     1     9       9      12       14        6    26   12       6  \n",
       "\n",
       "[1 rows x 4821 columns]"
      ]
     },
     "execution_count": 10,
     "metadata": {},
     "output_type": "execute_result"
    }
   ],
   "source": [
    "frequency"
   ]
  },
  {
   "cell_type": "code",
   "execution_count": 11,
   "metadata": {},
   "outputs": [],
   "source": [
    "postings.to_pickle(title + \"_positional_postings\")\n",
    "frequency.to_pickle(title + \"_positional_frequency\") "
   ]
  },
  {
   "cell_type": "markdown",
   "metadata": {},
   "source": [
    "<h2>4 Search Query"
   ]
  },
  {
   "cell_type": "code",
   "execution_count": 12,
   "metadata": {},
   "outputs": [],
   "source": [
    "#Read the stored posting list: \n",
    "postings = pd.read_pickle(title + \"_positional_postings\") \n",
    "#Read frequency of a term as follows: \n",
    "frequency = pd.read_pickle(title + \"_positional_frequency\") "
   ]
  },
  {
   "cell_type": "code",
   "execution_count": 13,
   "metadata": {},
   "outputs": [],
   "source": [
    "def get_word_postings(word):\n",
    "    preprocessed_word = str(preprocess(word, True))\n",
    "    print(preprocessed_word)\n",
    "    print(\"Frequency:\",frequency[preprocessed_word][0])\n",
    "    print(\"Postings List:\",postings[preprocessed_word][0])\n",
    "    \n",
    "def get_positions(posting_values, doc):\n",
    "    for posting_value in posting_values:\n",
    "        if posting_value[0] == doc:\n",
    "            return posting_value[1]\n",
    "    return {}\n",
    "\n",
    "def gen_init_set_matchings(word):\n",
    "    init = []\n",
    "    word_postings = postings[word][0]\n",
    "    for word_posting in word_postings:\n",
    "        for positions in word_posting[1]:\n",
    "            init.append((word_posting[0], positions))\n",
    "    return init\n",
    "\n",
    "def match_positional_index(init, b):\n",
    "    matched_docs = []\n",
    "    for p in init:\n",
    "        doc = p[0]\n",
    "        pos = p[1]\n",
    "\n",
    "        count = 0\n",
    "\n",
    "        for k in b:\n",
    "            pos = pos+1\n",
    "            k_pos = postings[k][0]\n",
    "            docs_list = [z[0] for z in k_pos]\n",
    "            if doc in docs_list:\n",
    "                doc_positions = get_positions(k_pos, doc)\n",
    "                if pos in doc_positions:\n",
    "                    count += 1\n",
    "                else:\n",
    "                    count += 1\n",
    "                    break\n",
    "\n",
    "            if count == len(b):\n",
    "                matched_docs.append(p[0])\n",
    "    return set(matched_docs)\n",
    "\n",
    "def run_query(query):\n",
    "    processed_query = preprocess(query, True)\n",
    "    print(processed_query)\n",
    "\n",
    "    query_tokens = word_tokenize(str(processed_query))\n",
    "    print(query_tokens)\n",
    "    \n",
    "    if len(query_tokens)==1:\n",
    "        print(\"Total Document Mathces\", [a[0] for a in postings[query][0]])\n",
    "        return [a[0] for a in postings[query][0]]\n",
    "    \n",
    "    init_word = query_tokens[0]\n",
    "    init_matches = gen_init_set_matchings(init_word)\n",
    "\n",
    "    query_tokens.pop(0)\n",
    "    total_matched_docs = match_positional_index(init_matches, query_tokens)\n",
    "    print(\"Total Document Matches:\", total_matched_docs)\n",
    "    return total_matched_docs"
   ]
  },
  {
   "cell_type": "markdown",
   "metadata": {},
   "source": [
    "<h3> Exercise3: explore posting list for a term and its\n",
    "frequency. Explain the output. \n"
   ]
  },
  {
   "cell_type": "code",
   "execution_count": 14,
   "metadata": {},
   "outputs": [
    {
     "name": "stdout",
     "output_type": "stream",
     "text": [
      "call\n",
      "Frequency: 9\n",
      "Postings List: [[0, {7}], [5, {43}], [10, {78}], [17, {5378, 3204, 393, 272, 115, 4566, 3159}], [18, {38}], [64, {896, 5640, 7055, 4626, 4631, 151, 1433, 4635, 3755, 1970, 6203, 187, 5202, 4436, 6620, 4446, 864, 6884, 5868, 6775, 5624, 764}], [66, {92}], [74, {34, 4}], [91, {3398, 4431, 6290, 3381, 4031}]]\n"
     ]
    }
   ],
   "source": [
    "get_word_postings(\"call\")"
   ]
  },
  {
   "cell_type": "markdown",
   "metadata": {},
   "source": [
    "<h3> Exercise 4: What is the posting list of “not in”? \n"
   ]
  },
  {
   "cell_type": "code",
   "execution_count": 15,
   "metadata": {},
   "outputs": [
    {
     "name": "stdout",
     "output_type": "stream",
     "text": [
      "routin call\n",
      "['routin', 'call']\n",
      "Total Document Matches: {0}\n"
     ]
    }
   ],
   "source": [
    "list = run_query(\"routin call\")"
   ]
  },
  {
   "cell_type": "markdown",
   "metadata": {},
   "source": [
    "<h2> 5. Home Task"
   ]
  },
  {
   "cell_type": "markdown",
   "metadata": {},
   "source": [
    "<h3> Exercise5. For the whole collection given by the\n",
    "instructor, build the positional index and find frequency\n",
    "for each term appears in collection! "
   ]
  },
  {
   "cell_type": "code",
   "execution_count": 16,
   "metadata": {},
   "outputs": [
    {
     "name": "stdout",
     "output_type": "stream",
     "text": [
      "       fontmong         lazer           rip         smirk          shop  \\\n",
      "0  [[99, {98}]]  [[99, {92}]]  [[99, {81}]]  [[99, {72}]]  [[99, {71}]]   \n",
      "\n",
      "          nasti      undercut        ventur          pete  \\\n",
      "0  [[99, {64}]]  [[99, {61}]]  [[99, {60}]]  [[99, {38}]]   \n",
      "\n",
      "                truetyp  ...  \\\n",
      "0  [[99, {57, 76, 31}]]  ...   \n",
      "\n",
      "                                               simpl            sipp  \\\n",
      "0  [[0, {9}], [1, {47}], [15, {8}], [17, {1080, 4...  [[0, {8, 29}]]   \n",
      "\n",
      "                                                call  \\\n",
      "0  [[0, {7}], [5, {43}], [10, {78}], [17, {5378, ...   \n",
      "\n",
      "                                              routin  \\\n",
      "0  [[0, {33, 6}], [5, {120, 129}], [10, {17}], [1...   \n",
      "\n",
      "                                              render  \\\n",
      "0  [[0, {32, 5}], [1, {26}], [17, {848}], [46, {2...   \n",
      "\n",
      "                                             librari  \\\n",
      "0  [[0, {4, 31}], [1, {16}], [5, {14}], [17, {122...   \n",
      "\n",
      "                                             describ  \\\n",
      "0  [[0, {3}], [17, {1325}], [64, {2349}], [65, {4...   \n",
      "\n",
      "                                                file  \\\n",
      "0  [[0, {2}], [5, {153, 177}], [7, {17, 30}], [8,...   \n",
      "\n",
      "                                                 got  \\\n",
      "0  [[0, {1}], [29, {54}], [33, {57}], [37, {112}]...   \n",
      "\n",
      "                                              recent  \n",
      "0  [[0, {0}], [5, {176}], [13, {0}], [41, {19}], ...  \n",
      "\n",
      "[1 rows x 4821 columns]\n",
      "['fontmong', 'lazer', 'rip', 'smirk', 'shop', '\\\\', '0', '[', '[', '99', ',', '{', '98', '}', ']', ']', '[', '[', '99', ',', '{', '92', '}', ']', ']', '[', '[', '99', ',', '{', '81', '}', ']', ']', '[', '[', '99', ',', '{', '72', '}', ']', ']', '[', '[', '99', ',', '{', '71', '}', ']', ']', 'nasti', 'undercut', 'ventur', 'pete', '\\\\', '0', '[', '[', '99', ',', '{', '64', '}', ']', ']', '[', '[', '99', ',', '{', '61', '}', ']', ']', '[', '[', '99', ',', '{', '60', '}', ']', ']', '[', '[', '99', ',', '{', '38', '}', ']', ']', 'truetyp', '...', '\\\\', '0', '[', '[', '99', ',', '{', '57', ',', '76', ',', '31', '}', ']', ']', '...', 'simpl', 'sipp', '\\\\', '0', '[', '[', '0', ',', '{', '9', '}', ']', ',', '[', '1', ',', '{', '47', '}', ']', ',', '[', '15', ',', '{', '8', '}', ']', ',', '[', '17', ',', '{', '1080', ',', '4', '...', '[', '[', '0', ',', '{', '8', ',', '29', '}', ']', ']', 'call', '\\\\', '0', '[', '[', '0', ',', '{', '7', '}', ']', ',', '[', '5', ',', '{', '43', '}', ']', ',', '[', '10', ',', '{', '78', '}', ']', ',', '[', '17', ',', '{', '5378', ',', '...', 'routin', '\\\\', '0', '[', '[', '0', ',', '{', '33', ',', '6', '}', ']', ',', '[', '5', ',', '{', '120', ',', '129', '}', ']', ',', '[', '10', ',', '{', '17', '}', ']', ',', '[', '1', '...', 'render', '\\\\', '0', '[', '[', '0', ',', '{', '32', ',', '5', '}', ']', ',', '[', '1', ',', '{', '26', '}', ']', ',', '[', '17', ',', '{', '848', '}', ']', ',', '[', '46', ',', '{', '2', '...', 'librari', '\\\\', '0', '[', '[', '0', ',', '{', '4', ',', '31', '}', ']', ',', '[', '1', ',', '{', '16', '}', ']', ',', '[', '5', ',', '{', '14', '}', ']', ',', '[', '17', ',', '{', '122', '...', 'describ', '\\\\', '0', '[', '[', '0', ',', '{', '3', '}', ']', ',', '[', '17', ',', '{', '1325', '}', ']', ',', '[', '64', ',', '{', '2349', '}', ']', ',', '[', '65', ',', '{', '4', '...', 'file', '\\\\', '0', '[', '[', '0', ',', '{', '2', '}', ']', ',', '[', '5', ',', '{', '153', ',', '177', '}', ']', ',', '[', '7', ',', '{', '17', ',', '30', '}', ']', ',', '[', '8', ',', '...', 'got', '\\\\', '0', '[', '[', '0', ',', '{', '1', '}', ']', ',', '[', '29', ',', '{', '54', '}', ']', ',', '[', '33', ',', '{', '57', '}', ']', ',', '[', '37', ',', '{', '112', '}', ']', '...', 'recent', '0', '[', '[', '0', ',', '{', '0', '}', ']', ',', '[', '5', ',', '{', '176', '}', ']', ',', '[', '13', ',', '{', '0', '}', ']', ',', '[', '41', ',', '{', '19', '}', ']', ',', '...', '[', '1', 'rows', 'x', '4821', 'columns', ']']\n",
      "Total Document Matches: set()\n"
     ]
    }
   ],
   "source": [
    "list = run_query(postings)"
   ]
  },
  {
   "cell_type": "code",
   "execution_count": null,
   "metadata": {},
   "outputs": [],
   "source": []
  }
 ],
 "metadata": {
  "kernelspec": {
   "display_name": "Python 3",
   "language": "python",
   "name": "python3"
  },
  "language_info": {
   "codemirror_mode": {
    "name": "ipython",
    "version": 3
   },
   "file_extension": ".py",
   "mimetype": "text/x-python",
   "name": "python",
   "nbconvert_exporter": "python",
   "pygments_lexer": "ipython3",
   "version": "3.7.4"
  }
 },
 "nbformat": 4,
 "nbformat_minor": 4
}
