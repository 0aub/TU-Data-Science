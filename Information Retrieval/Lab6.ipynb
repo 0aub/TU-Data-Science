{
 "cells": [
  {
   "cell_type": "markdown",
   "metadata": {},
   "source": [
    "Ayyub Alzahem 3700203"
   ]
  },
  {
   "cell_type": "markdown",
   "metadata": {},
   "source": [
    "<h3>Unigram Inverted Index"
   ]
  },
  {
   "cell_type": "code",
   "execution_count": 1,
   "metadata": {},
   "outputs": [
    {
     "name": "stderr",
     "output_type": "stream",
     "text": [
      "[nltk_data] Downloading package stopwords to\n",
      "[nltk_data]     C:\\Users\\ayyub\\AppData\\Roaming\\nltk_data...\n",
      "[nltk_data]   Package stopwords is already up-to-date!\n",
      "[nltk_data] Downloading package punkt to\n",
      "[nltk_data]     C:\\Users\\ayyub\\AppData\\Roaming\\nltk_data...\n",
      "[nltk_data]   Package punkt is already up-to-date!\n"
     ]
    }
   ],
   "source": [
    "## import the necessary libraries\n",
    "import pandas as pd\n",
    "import numpy as np\n",
    "import nltk\n",
    "nltk.download('stopwords')\n",
    "nltk.download('punkt') \n",
    "from nltk.corpus import stopwords\n",
    "from nltk.tokenize import word_tokenize\n",
    "from nltk.stem import PorterStemmer\n",
    "import os\n",
    "import string\n",
    "import copy\n",
    "import pickle "
   ]
  },
  {
   "cell_type": "code",
   "execution_count": 2,
   "metadata": {},
   "outputs": [],
   "source": [
    "title = \"20_newsgroups\"\n",
    "os.chdir(\"C:/20_newsgroups\")"
   ]
  },
  {
   "cell_type": "code",
   "execution_count": 3,
   "metadata": {},
   "outputs": [],
   "source": [
    "paths = []\n",
    "for (dirpath, dirnames, filenames) in os.walk(str(os.getcwd())+'/'+title+'/'):\n",
    "    for i in filenames:\n",
    "        paths.append(str(dirpath)+str(\"\\\\\")+i) "
   ]
  },
  {
   "cell_type": "code",
   "execution_count": 4,
   "metadata": {},
   "outputs": [
    {
     "name": "stdout",
     "output_type": "stream",
     "text": [
      "C:\\20_newsgroups/20_newsgroups/alt.atheism\n"
     ]
    }
   ],
   "source": [
    "print(dirpath)"
   ]
  },
  {
   "cell_type": "markdown",
   "metadata": {},
   "source": [
    "<h3>Preprocessing </h3>"
   ]
  },
  {
   "cell_type": "code",
   "execution_count": 5,
   "metadata": {},
   "outputs": [],
   "source": [
    "#Removing stop words \n",
    "def remove_stop_words(data):\n",
    "    stop_words = stopwords.words('english')\n",
    "    words = word_tokenize(str(data))\n",
    "    new_text = \"\"\n",
    "    for w in words:\n",
    "        if w not in stop_words:\n",
    "            new_text = new_text + \" \" + w\n",
    "    return np.char.strip(new_text) \n",
    "\n",
    "#Removing punctuation\n",
    "def remove_punctuation(data):\n",
    "    symbols = \"!\\\"#$%&()*+-./:;<=>?@[\\]^_`{|}~\\n\"\n",
    "    for i in range(len(symbols)):\n",
    "        data = np.char.replace(data, symbols[i], ' ')\n",
    "        data = np.char.replace(data, \" \", \" \")\n",
    "    data = np.char.replace(data, ',', '')\n",
    "    return data \n",
    "\n",
    "#Convert to lowercase\n",
    "def convert_lower_case(data):\n",
    "    return np.char.lower(data)\n",
    "\n",
    "#Stemming\n",
    "def stemming(data):\n",
    "    stemmer= PorterStemmer()\n",
    "\n",
    "    tokens = word_tokenize(str(data))\n",
    "    new_text = \"\"\n",
    "    for w in tokens:\n",
    "        new_text = new_text + \" \" + stemmer.stem(w)\n",
    "    return np.char.strip(new_text) \n",
    "\n",
    "#Converting numbers to its equivalent words \n",
    "def convert_numbers(data):\n",
    "    data = np.char.replace(data, \"0\", \" zero \")\n",
    "    data = np.char.replace(data, \"1\", \" one \")\n",
    "    data = np.char.replace(data, \"2\", \" two \")\n",
    "    data = np.char.replace(data, \"3\", \" three \")\n",
    "    data = np.char.replace(data, \"4\", \" four \")\n",
    "    data = np.char.replace(data, \"5\", \" five \")\n",
    "    data = np.char.replace(data, \"6\", \" six \")\n",
    "    data = np.char.replace(data, \"7\", \" seven \")\n",
    "    data = np.char.replace(data, \"8\", \" eight \")\n",
    "    data = np.char.replace(data, \"9\", \" nine \")\n",
    "    return data \n",
    "\n",
    "#Removing header \n",
    "def remove_header(data):\n",
    "    try:\n",
    "        ind = data.index('\\n\\n')\n",
    "        data = data[ind:]\n",
    "    except:\n",
    "        print(\"No Header\")\n",
    "    return data \n",
    "\n",
    "#Removing apostrophe \n",
    "def remove_apostrophe(data):\n",
    "    return np.char.replace(data, \"'\", \"\") \n",
    "\n",
    "#Removing single characters \n",
    "def remove_single_characters(data):\n",
    "    words = word_tokenize(str(data))\n",
    "    new_text = \"\"\n",
    "    for w in words:\n",
    "        if len(w) > 1:\n",
    "            new_text = new_text + \" \" + w\n",
    "    return np.char.strip(new_text)"
   ]
  },
  {
   "cell_type": "markdown",
   "metadata": {},
   "source": [
    "<h3>Exercise 1: Create a Function preprocess () and invoke the\n",
    "functions above.  </h3>"
   ]
  },
  {
   "cell_type": "code",
   "execution_count": 6,
   "metadata": {},
   "outputs": [],
   "source": [
    "def preprocess(data, query):\n",
    "    data = remove_header(data) \n",
    "    data = convert_lower_case(data)\n",
    "    data = convert_numbers(data)\n",
    "    data = remove_punctuation(data)\n",
    "    data = remove_stop_words(data)\n",
    "    data = remove_apostrophe(data)\n",
    "    data = remove_single_characters(data)\n",
    "    data = stemming(data) \n",
    "    return data"
   ]
  },
  {
   "cell_type": "markdown",
   "metadata": {},
   "source": [
    "<h3> Generating Postings for Unigram inverted index \n",
    "</h3>"
   ]
  },
  {
   "cell_type": "code",
   "execution_count": 7,
   "metadata": {},
   "outputs": [
    {
     "name": "stdout",
     "output_type": "stream",
     "text": [
      "0\n"
     ]
    }
   ],
   "source": [
    "doc = 0\n",
    "postings = pd.DataFrame()\n",
    "\n",
    "for path in paths:\n",
    "    file = open(path, 'r', encoding='cp1250')\n",
    "    text = file.read().strip()\n",
    "    file.close()\n",
    "    preprocessed_text = preprocess(text, False)\n",
    "    \n",
    "    #Genrate matrex posting list\n",
    "    if doc%100 == 0:\n",
    "        print(doc)\n",
    "    tokens = word_tokenize(str(preprocessed_text))\n",
    "    for token in tokens:\n",
    "        if token in postings:\n",
    "            p = postings[token][0]\n",
    "            p.add(doc)\n",
    "            postings[token][0] = p \n",
    "        else:\n",
    "            postings.insert(value=[{doc}], loc=0, column=token)\n",
    "    doc += 1 \n",
    "\n",
    "#Save the output:\n",
    "postings.to_pickle(title + \"_unigram_postings\")"
   ]
  },
  {
   "cell_type": "code",
   "execution_count": 8,
   "metadata": {},
   "outputs": [
    {
     "data": {
      "text/html": [
       "<div>\n",
       "<style scoped>\n",
       "    .dataframe tbody tr th:only-of-type {\n",
       "        vertical-align: middle;\n",
       "    }\n",
       "\n",
       "    .dataframe tbody tr th {\n",
       "        vertical-align: top;\n",
       "    }\n",
       "\n",
       "    .dataframe thead th {\n",
       "        text-align: right;\n",
       "    }\n",
       "</style>\n",
       "<table border=\"1\" class=\"dataframe\">\n",
       "  <thead>\n",
       "    <tr style=\"text-align: right;\">\n",
       "      <th></th>\n",
       "      <th>exam</th>\n",
       "      <th>compil</th>\n",
       "      <th>side</th>\n",
       "      <th>uneven</th>\n",
       "      <th>soc</th>\n",
       "      <th>pub</th>\n",
       "      <th>rutger</th>\n",
       "      <th>ftp</th>\n",
       "      <th>dj</th>\n",
       "      <th>mcdowel</th>\n",
       "      <th>...</th>\n",
       "      <th>nine</th>\n",
       "      <th>decemb</th>\n",
       "      <th>one</th>\n",
       "      <th>modifi</th>\n",
       "      <th>last</th>\n",
       "      <th>alt</th>\n",
       "      <th>resourc</th>\n",
       "      <th>atheism</th>\n",
       "      <th>name</th>\n",
       "      <th>archiv</th>\n",
       "    </tr>\n",
       "  </thead>\n",
       "  <tbody>\n",
       "    <tr>\n",
       "      <th>0</th>\n",
       "      <td>{21}</td>\n",
       "      <td>{21}</td>\n",
       "      <td>{21}</td>\n",
       "      <td>{21}</td>\n",
       "      <td>{21}</td>\n",
       "      <td>{21}</td>\n",
       "      <td>{21}</td>\n",
       "      <td>{21}</td>\n",
       "      <td>{21}</td>\n",
       "      <td>{21}</td>\n",
       "      <td>...</td>\n",
       "      <td>{0, 1, 2, 4, 5, 17, 18, 19}</td>\n",
       "      <td>{0}</td>\n",
       "      <td>{0, 1, 2, 3, 4, 5, 7, 8, 13, 14, 16, 17, 18, 1...</td>\n",
       "      <td>{0, 1}</td>\n",
       "      <td>{0, 1}</td>\n",
       "      <td>{0, 1}</td>\n",
       "      <td>{0}</td>\n",
       "      <td>{0, 1, 5, 6}</td>\n",
       "      <td>{0, 1, 7}</td>\n",
       "      <td>{0, 1}</td>\n",
       "    </tr>\n",
       "  </tbody>\n",
       "</table>\n",
       "<p>1 rows × 1949 columns</p>\n",
       "</div>"
      ],
      "text/plain": [
       "   exam compil  side uneven   soc   pub rutger   ftp    dj mcdowel  ...  \\\n",
       "0  {21}   {21}  {21}   {21}  {21}  {21}   {21}  {21}  {21}    {21}  ...   \n",
       "\n",
       "                          nine decemb  \\\n",
       "0  {0, 1, 2, 4, 5, 17, 18, 19}    {0}   \n",
       "\n",
       "                                                 one  modifi    last     alt  \\\n",
       "0  {0, 1, 2, 3, 4, 5, 7, 8, 13, 14, 16, 17, 18, 1...  {0, 1}  {0, 1}  {0, 1}   \n",
       "\n",
       "  resourc       atheism       name  archiv  \n",
       "0     {0}  {0, 1, 5, 6}  {0, 1, 7}  {0, 1}  \n",
       "\n",
       "[1 rows x 1949 columns]"
      ]
     },
     "execution_count": 8,
     "metadata": {},
     "output_type": "execute_result"
    }
   ],
   "source": [
    "postings"
   ]
  },
  {
   "cell_type": "markdown",
   "metadata": {},
   "source": [
    "<h3> Search Query for Unigram Index"
   ]
  },
  {
   "cell_type": "code",
   "execution_count": 9,
   "metadata": {},
   "outputs": [],
   "source": [
    "#Read first the stored posting list: \n",
    "postings = pd.read_pickle(title + \"_unigram_postings\")"
   ]
  },
  {
   "cell_type": "markdown",
   "metadata": {},
   "source": [
    "<h3> Exercise 2: explore posting list. Find how many times the\n",
    "following words appear in the posting list [‘one’, ‘nine’,\n",
    "‘exam’] \n"
   ]
  },
  {
   "cell_type": "code",
   "execution_count": 10,
   "metadata": {},
   "outputs": [
    {
     "name": "stdout",
     "output_type": "stream",
     "text": [
      "{0, 1, 2, 3, 4, 5, 7, 8, 13, 14, 16, 17, 18, 19, 20, 21}\n",
      "{0, 1, 2, 4, 5, 17, 18, 19}\n",
      "{21}\n",
      "one AND nine AND exam =  set()\n"
     ]
    }
   ],
   "source": [
    "s1 = postings['one'][0]\n",
    "s2 = postings['nine'][0]\n",
    "s3 = postings['exam'][0]\n",
    "print(s1)\n",
    "print(s2)\n",
    "print(s3)\n",
    "\n",
    "print('one AND nine AND exam = ', s1 & s2 & s3)"
   ]
  },
  {
   "cell_type": "markdown",
   "metadata": {},
   "source": [
    "<h3> Exercise 3: What is the posting list of “NOT exam”? "
   ]
  },
  {
   "cell_type": "code",
   "execution_count": 11,
   "metadata": {},
   "outputs": [
    {
     "name": "stdout",
     "output_type": "stream",
     "text": [
      "{0, 1, 2, 3, 4, 5, 7, 8, 13, 14, 16, 17, 18, 19, 20, 21}\n",
      "{0, 1, 2, 4, 5, 17, 18, 19}\n",
      "{0, 1, 2, 3, 4, 5, 6, 7, 8, 9, 10, 11, 12, 13, 14, 15, 16, 17, 18, 19, 20}\n",
      "one AND nine NOT exam =  {0, 1, 2, 4, 5, 17, 18, 19}\n"
     ]
    }
   ],
   "source": [
    "def get_not(word):\n",
    "    a = postings[word][0]\n",
    "    b = set(range(len(paths)))\n",
    "    return b.difference(a)\n",
    "\n",
    "s1 = postings['one'][0]\n",
    "s2 = postings['nine'][0]\n",
    "s3 = get_not('exam')\n",
    "\n",
    "print(s1)\n",
    "print(s2)\n",
    "print(s3)\n",
    "\n",
    "print('one AND nine NOT exam = ', s1 & s2 & s3)"
   ]
  },
  {
   "cell_type": "markdown",
   "metadata": {},
   "source": [
    "<h3> Exercise 4. Write code that is able to retrieve a complex\n",
    "query such as “exam and not resourc.? \n"
   ]
  },
  {
   "cell_type": "code",
   "execution_count": 12,
   "metadata": {},
   "outputs": [],
   "source": [
    "def generate_command_tokens(query):\n",
    "    query = query.lower()\n",
    "    tokens = word_tokenize(query)\n",
    "    \n",
    "    commands = []\n",
    "    query_words = []\n",
    "    \n",
    "    for t in tokens:\n",
    "        if t not in ['and', 'or', 'not']:\n",
    "            processed_word = preprocess([t], True)\n",
    "            print(str(processed_word))\n",
    "            query_words.append(str(processed_word))\n",
    "        else:\n",
    "            commands.append(t)\n",
    "            \n",
    "    return commands, query_words"
   ]
  },
  {
   "cell_type": "code",
   "execution_count": 13,
   "metadata": {},
   "outputs": [],
   "source": [
    "def gen_not_tuple(query_words, commands):\n",
    "    tup = []\n",
    "    while 'not' in commands:\n",
    "        i= commands.index('not')\n",
    "        word = query_words[i]\n",
    "        word_postings = get_not(word)\n",
    "        tup.append(word_postings)\n",
    "        commands.pop(i)\n",
    "        query_words[i] = i\n",
    "        print(\"\\nAfter Not Processing: \",commands, query_words)\n",
    "    return tup"
   ]
  },
  {
   "cell_type": "code",
   "execution_count": 14,
   "metadata": {},
   "outputs": [],
   "source": [
    "def binary_operations(query_words, commands, tup):\n",
    "    a = postings[query_words[0]][0]\n",
    "    query_words.pop(0)\n",
    "    \n",
    "    for i in range(len(commands)):\n",
    "        if type(query_words[i]) == int:\n",
    "            b = tup.pop(0)\n",
    "        else:\n",
    "            b = postings[query_words[i]][0]\n",
    "        \n",
    "        if commands[i] == 'and':\n",
    "            a = a.intersection(b)\n",
    "        elif commands[i] == 'or':\n",
    "            q= a.union(b)\n",
    "        else:\n",
    "            print('Invaled Command')\n",
    "        \n",
    "    return a"
   ]
  },
  {
   "cell_type": "code",
   "execution_count": 15,
   "metadata": {},
   "outputs": [],
   "source": [
    "def execute_query(query):\n",
    "    commands, query_words = generate_command_tokens(query)\n",
    "    tup = gen_not_tuple(query_words, commands)\n",
    "    print('\\nCommands: ', commands)\n",
    "    print('\\nQuery Words: ', query_words)\n",
    "    print('\\nTup: ', tup)\n",
    "    \n",
    "    final_set = binary_operations(query_words, commands, tup)\n",
    "    print('\\nFinal Set: ', final_set)\n",
    "    \n",
    "    return final_set"
   ]
  },
  {
   "cell_type": "code",
   "execution_count": 16,
   "metadata": {},
   "outputs": [],
   "source": [
    "def print_file(file):\n",
    "    out_file = open(path[file], 'r', encoding='cp1250')\n",
    "    out_text = out_file.read()\n",
    "    print(out_test)"
   ]
  },
  {
   "cell_type": "code",
   "execution_count": 18,
   "metadata": {},
   "outputs": [
    {
     "name": "stdout",
     "output_type": "stream",
     "text": [
      "No Header\n",
      "exam\n",
      "No Header\n",
      "resourc\n",
      "\n",
      "After Not Processing:  ['and'] ['exam', 1]\n",
      "\n",
      "Commands:  ['and']\n",
      "\n",
      "Query Words:  ['exam', 1]\n",
      "\n",
      "Tup:  [{1, 2, 3, 4, 5, 6, 7, 8, 9, 10, 11, 12, 13, 14, 15, 16, 17, 18, 19, 20, 21}]\n",
      "\n",
      "Final Set:  {21}\n"
     ]
    }
   ],
   "source": [
    "query = 'exam and not resourc'\n",
    "lists = execute_query(query)"
   ]
  },
  {
   "cell_type": "code",
   "execution_count": null,
   "metadata": {},
   "outputs": [],
   "source": []
  }
 ],
 "metadata": {
  "kernelspec": {
   "display_name": "Python 3",
   "language": "python",
   "name": "python3"
  },
  "language_info": {
   "codemirror_mode": {
    "name": "ipython",
    "version": 3
   },
   "file_extension": ".py",
   "mimetype": "text/x-python",
   "name": "python",
   "nbconvert_exporter": "python",
   "pygments_lexer": "ipython3",
   "version": "3.7.4"
  }
 },
 "nbformat": 4,
 "nbformat_minor": 4
}
