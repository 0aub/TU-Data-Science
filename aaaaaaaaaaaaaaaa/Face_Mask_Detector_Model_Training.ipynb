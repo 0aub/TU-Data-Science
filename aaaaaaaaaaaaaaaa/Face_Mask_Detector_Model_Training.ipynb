{
 "cells": [
  {
   "cell_type": "markdown",
   "metadata": {
    "id": "sIiZILix5083"
   },
   "source": [
    "<h1> Train DL Model "
   ]
  },
  {
   "cell_type": "markdown",
   "metadata": {
    "id": "UgMLOlyK509M"
   },
   "source": [
    "<b> Libraries"
   ]
  },
  {
   "cell_type": "code",
   "execution_count": null,
   "metadata": {
    "executionInfo": {
     "elapsed": 8291,
     "status": "ok",
     "timestamp": 1613292766553,
     "user": {
      "displayName": "a k",
      "photoUrl": "https://lh3.googleusercontent.com/a-/AOh14Gg-96pG2GK7h0FnTGBwRqlci4gGo5wlb_0-A5uJBg=s64",
      "userId": "07543680917589197618"
     },
     "user_tz": -180
    },
    "id": "r7FhfV1N509P"
   },
   "outputs": [],
   "source": [
    "from tensorflow import cast, float32\n",
    "from tensorflow.keras.preprocessing.image import ImageDataGenerator\n",
    "from tensorflow.keras.applications import MobileNetV2\n",
    "from tensorflow.keras.layers import AveragePooling2D\n",
    "from tensorflow.keras.layers import Dropout\n",
    "from tensorflow.keras.layers import Flatten\n",
    "from tensorflow.keras.layers import Dense\n",
    "from tensorflow.keras.layers import Input\n",
    "from tensorflow.keras.models import Model\n",
    "from tensorflow.keras.optimizers import Adam\n",
    "from tensorflow.keras.applications.mobilenet_v2 import preprocess_input\n",
    "from tensorflow.keras.preprocessing.image import img_to_array\n",
    "from tensorflow.keras.preprocessing.image import load_img\n",
    "from tensorflow.keras.utils import to_categorical\n",
    "from sklearn.preprocessing import LabelBinarizer\n",
    "from sklearn.model_selection import train_test_split\n",
    "from sklearn.metrics import classification_report\n",
    "from imutils import paths\n",
    "from datetime import datetime\n",
    "import matplotlib.pyplot as plt\n",
    "import numpy as np\n",
    "import os\n",
    "\n",
    "\n",
    "\n",
    "\n",
    "INIT_LR = 1e-4 # initial learning rate\n",
    "EPOCHS = 20 # number of epochs to train for\n",
    "BS = 32 # batch size"
   ]
  },
  {
   "cell_type": "markdown",
   "metadata": {
    "id": "Ub_1fXDr6bs5"
   },
   "source": [
    "<b> Unzip dataset"
   ]
  },
  {
   "cell_type": "code",
   "execution_count": 2,
   "metadata": {
    "colab": {
     "base_uri": "https://localhost:8080/"
    },
    "executionInfo": {
     "elapsed": 1241,
     "status": "ok",
     "timestamp": 1613297586315,
     "user": {
      "displayName": "a k",
      "photoUrl": "https://lh3.googleusercontent.com/a-/AOh14Gg-96pG2GK7h0FnTGBwRqlci4gGo5wlb_0-A5uJBg=s64",
      "userId": "07543680917589197618"
     },
     "user_tz": -180
    },
    "id": "SbQtmn7pPBDB",
    "outputId": "7f338990-8574-4f76-a6de-c9f4e98abf7e"
   },
   "outputs": [
    {
     "ename": "ModuleNotFoundError",
     "evalue": "No module named 'google.colab'",
     "output_type": "error",
     "traceback": [
      "\u001b[1;31m---------------------------------------------------------------------------\u001b[0m",
      "\u001b[1;31mModuleNotFoundError\u001b[0m                       Traceback (most recent call last)",
      "\u001b[1;32m<ipython-input-2-d5df0069828e>\u001b[0m in \u001b[0;36m<module>\u001b[1;34m\u001b[0m\n\u001b[1;32m----> 1\u001b[1;33m \u001b[1;32mfrom\u001b[0m \u001b[0mgoogle\u001b[0m\u001b[1;33m.\u001b[0m\u001b[0mcolab\u001b[0m \u001b[1;32mimport\u001b[0m \u001b[0mdrive\u001b[0m\u001b[1;33m\u001b[0m\u001b[1;33m\u001b[0m\u001b[0m\n\u001b[0m\u001b[0;32m      2\u001b[0m \u001b[0mdrive\u001b[0m\u001b[1;33m.\u001b[0m\u001b[0mmount\u001b[0m\u001b[1;33m(\u001b[0m\u001b[1;34m'/content/drive'\u001b[0m\u001b[1;33m)\u001b[0m\u001b[1;33m\u001b[0m\u001b[1;33m\u001b[0m\u001b[0m\n",
      "\u001b[1;31mModuleNotFoundError\u001b[0m: No module named 'google.colab'"
     ]
    }
   ],
   "source": [
    "from google.colab import drive\n",
    "drive.mount('/content/drive')"
   ]
  },
  {
   "cell_type": "code",
   "execution_count": null,
   "metadata": {
    "id": "Jb5wifF156zT"
   },
   "outputs": [],
   "source": [
    "#!unzip \"/content/drive/My Drive/dataset.zip\" -d \"/content/drive/My Drive/Colab Notebooks/\""
   ]
  },
  {
   "cell_type": "markdown",
   "metadata": {
    "id": "pMILUjhK509R"
   },
   "source": [
    "<b>Datasets loading"
   ]
  },
  {
   "cell_type": "code",
   "execution_count": 4,
   "metadata": {
    "colab": {
     "base_uri": "https://localhost:8080/"
    },
    "executionInfo": {
     "elapsed": 120776,
     "status": "ok",
     "timestamp": 1613286489076,
     "user": {
      "displayName": "a k",
      "photoUrl": "https://lh3.googleusercontent.com/a-/AOh14Gg-96pG2GK7h0FnTGBwRqlci4gGo5wlb_0-A5uJBg=s64",
      "userId": "07543680917589197618"
     },
     "user_tz": -180
    },
    "id": "oM4MuGeK509T",
    "outputId": "1fc35426-c57f-4508-cb8f-75a395acf6b8"
   },
   "outputs": [
    {
     "name": "stdout",
     "output_type": "stream",
     "text": [
      "start at  02:47:54\n",
      "[INFO] start loading images... \n",
      "130000   images are processed at   02:48:15\n",
      "131000   images are processed at   02:51:23\n",
      "132000   images are processed at   03:03:16\n",
      "133000   images are processed at   03:25:22\n",
      "134000   images are processed at   03:53:33\n",
      "135000   images are processed at   04:28:11\n",
      "136000   images are processed at   05:08:41\n",
      "137000   images are processed at   05:51:18\n",
      "images and labels data are saved at  07:08:08\n"
     ]
    }
   ],
   "source": [
    "# load the dataset and categorize it\n",
    "DIRECTORY = \"/content/drive/My Drive/Colab Notebooks/dataset\"\n",
    "CATEGORIES = [\"with_mask\", \"without_mask\"]\n",
    "\n",
    "# grab the list of images in our dataset directory, then initialize\n",
    "# the list of data (i.e., images) and class images\n",
    "print('start at ', datetime.now().strftime(\"%H:%M:%S\"))\n",
    "print(\"[INFO] start loading images... \")\n",
    "\n",
    "data = []\n",
    "data = np.array(data)\n",
    "labels = []\n",
    "count = 0\n",
    "counted = 130000\n",
    "\n",
    "# this part was done bacause the dataset is very huge. it contains more than 130K images.\n",
    "# so, we saved it in multiple text files because the system crashes after loading every 8000-9000 images\n",
    "\n",
    "# load a small part if the dataset and convert the images into float32\n",
    "# then save the small part of the dataset in csv file\n",
    "# and repeat running the same process until we load the whole dataset\n",
    "for category in CATEGORIES:\n",
    "    path = os.path.join(DIRECTORY, category)\n",
    "    for img in os.listdir(path):\n",
    "        if (count > counted and count < (counted +7000)):\n",
    "            img_path = os.path.join(path, img)\n",
    "            image = load_img(img_path, target_size=(224, 224))\n",
    "            image = img_to_array(image)\n",
    "            image = preprocess_input(image)\n",
    "\n",
    "            data = np.append(data, cast(x=image, dtype=float32))\n",
    "            labels.append(category)\n",
    "        \n",
    "        count += 1\n",
    "\n",
    "        if count % 1000 == 0 and count > (counted - 1000):\n",
    "            print(count, '  images are processed at  ', datetime.now().strftime(\"%H:%M:%S\")) \n",
    "\n",
    "# save the processed part of the dataset as csv file to import it as text file later\n",
    "np.savetxt(\"/content/drive/My Drive/Colab Notebooks/imagesdata18.csv\", data, delimiter=\",\")\n",
    "np.savetxt(\"/content/drive/My Drive/Colab Notebooks/labelsdata18.csv\", labels, delimiter=\",\", fmt='%s')\n",
    "print('images and labels data are saved at ', datetime.now().strftime(\"%H:%M:%S\"))"
   ]
  },
  {
   "cell_type": "code",
   "execution_count": 5,
   "metadata": {
    "colab": {
     "base_uri": "https://localhost:8080/"
    },
    "executionInfo": {
     "elapsed": 1550,
     "status": "ok",
     "timestamp": 1613286514848,
     "user": {
      "displayName": "a k",
      "photoUrl": "https://lh3.googleusercontent.com/a-/AOh14Gg-96pG2GK7h0FnTGBwRqlci4gGo5wlb_0-A5uJBg=s64",
      "userId": "07543680917589197618"
     },
     "user_tz": -180
    },
    "id": "YyhwHvs3dQcn",
    "outputId": "349e2004-167e-4c78-fadf-6f5ee91d836b"
   },
   "outputs": [
    {
     "name": "stdout",
     "output_type": "stream",
     "text": [
      "total images are:   137607\n"
     ]
    }
   ],
   "source": [
    "print('total images are:  ', count)"
   ]
  },
  {
   "cell_type": "markdown",
   "metadata": {
    "id": "LT-ZBfLdcLFj"
   },
   "source": [
    "**Load the saved arrays**"
   ]
  },
  {
   "cell_type": "code",
   "execution_count": 3,
   "metadata": {
    "colab": {
     "base_uri": "https://localhost:8080/"
    },
    "executionInfo": {
     "elapsed": 4453678,
     "status": "ok",
     "timestamp": 1613297232318,
     "user": {
      "displayName": "a k",
      "photoUrl": "https://lh3.googleusercontent.com/a-/AOh14Gg-96pG2GK7h0FnTGBwRqlci4gGo5wlb_0-A5uJBg=s64",
      "userId": "07543680917589197618"
     },
     "user_tz": -180
    },
    "id": "sQX4BlYvcKqw",
    "outputId": "83ec528a-8ae0-4cb0-c89e-561c5d313ce6"
   },
   "outputs": [
    {
     "name": "stdout",
     "output_type": "stream",
     "text": [
      "start at  08:52:59\n",
      "part 0 ended at  10:07:11\n"
     ]
    }
   ],
   "source": [
    "# load the arrays from the saved csv files and prin the loading time after each loaded file\n",
    "print('start at ', datetime.now().strftime(\"%H:%M:%S\"))\n",
    "imagesDataPart0 = np.loadtxt(\"/content/drive/My Drive/Colab Notebooks/imagesdata.csv\", delimiter=\",\")\n",
    "print('part 0 ended at ', datetime.now().strftime(\"%H:%M:%S\"))"
   ]
  },
  {
   "cell_type": "code",
   "execution_count": 5,
   "metadata": {
    "colab": {
     "base_uri": "https://localhost:8080/"
    },
    "executionInfo": {
     "elapsed": 3683532,
     "status": "ok",
     "timestamp": 1613301501166,
     "user": {
      "displayName": "a k",
      "photoUrl": "https://lh3.googleusercontent.com/a-/AOh14Gg-96pG2GK7h0FnTGBwRqlci4gGo5wlb_0-A5uJBg=s64",
      "userId": "07543680917589197618"
     },
     "user_tz": -180
    },
    "id": "BclojclrvMJN",
    "outputId": "5321b6df-b34f-4fc0-baff-6effc45ee09a"
   },
   "outputs": [
    {
     "name": "stdout",
     "output_type": "stream",
     "text": [
      "start at  10:16:58\n",
      "part 1 ended at  11:18:20\n"
     ]
    }
   ],
   "source": [
    "print('start at ', datetime.now().strftime(\"%H:%M:%S\"))\n",
    "imagesDataPart1 = np.loadtxt(\"/content/drive/My Drive/Colab Notebooks/imagesdata1.csv\", delimiter=\",\")\n",
    "print('part 1 ended at ', datetime.now().strftime(\"%H:%M:%S\"))"
   ]
  },
  {
   "cell_type": "code",
   "execution_count": null,
   "metadata": {
    "colab": {
     "base_uri": "https://localhost:8080/"
    },
    "id": "i3uDIZiWvP9s",
    "outputId": "251901e2-25e1-40f1-d211-b0b7ebd768d9"
   },
   "outputs": [
    {
     "name": "stdout",
     "output_type": "stream",
     "text": [
      "start at  11:24:16\n"
     ]
    }
   ],
   "source": [
    "print('start at ', datetime.now().strftime(\"%H:%M:%S\"))\n",
    "imagesDataPart2 = np.loadtxt(\"/content/drive/My Drive/Colab Notebooks/imagesdata2.csv\", delimiter=\",\")\n",
    "print('part 2 ended at ', datetime.now().strftime(\"%H:%M:%S\"))"
   ]
  },
  {
   "cell_type": "code",
   "execution_count": null,
   "metadata": {
    "id": "ikcKqkbvvSgg"
   },
   "outputs": [],
   "source": [
    "print('start at ', datetime.now().strftime(\"%H:%M:%S\"))\n",
    "imagesDataPart3 = np.loadtxt(\"/content/drive/My Drive/Colab Notebooks/imagesdata3.csv\", delimiter=\",\")\n",
    "print('part 3 ended at ', datetime.now().strftime(\"%H:%M:%S\"))"
   ]
  },
  {
   "cell_type": "code",
   "execution_count": null,
   "metadata": {
    "id": "-QxSvOs1509X"
   },
   "outputs": [],
   "source": [
    "# perform one-hot encoding on the labels\n",
    "lb = LabelBinarizer()\n",
    "labels = lb.fit_transform(labels)\n",
    "labels = to_categorical(labels)\n",
    "\n",
    "#data = np.array(data, dtype=\"float32\")\n",
    "labels = np.array(labels)\n",
    "\n",
    "(trainX, testX, trainY, testY) = train_test_split(data, labels,\n",
    "    test_size=0.20, stratify=labels, random_state=42)"
   ]
  },
  {
   "cell_type": "markdown",
   "metadata": {
    "id": "eD3n5Ua8509Y"
   },
   "source": [
    "<b>Data agumentation"
   ]
  },
  {
   "cell_type": "code",
   "execution_count": null,
   "metadata": {
    "id": "dIRQlmzu509Z"
   },
   "outputs": [],
   "source": [
    "# construct the training image generator for data augmentation\n",
    "aug = ImageDataGenerator(\n",
    "    rotation_range=20,\n",
    "    zoom_range=0.15,\n",
    "    width_shift_range=0.2,\n",
    "    height_shift_range=0.2,\n",
    "    shear_range=0.15,\n",
    "    horizontal_flip=True,\n",
    "    fill_mode=\"nearest\")"
   ]
  },
  {
   "cell_type": "markdown",
   "metadata": {
    "id": "0oifZDnZ509b"
   },
   "source": [
    "<b> Model training"
   ]
  },
  {
   "cell_type": "code",
   "execution_count": null,
   "metadata": {
    "id": "qTdK9zN7509c"
   },
   "outputs": [],
   "source": [
    "# load the MobileNetV2 network, ensuring the head FC layer sets are\n",
    "# left off\n",
    "baseModel = MobileNetV2(weights=\"imagenet\", include_top=False,\n",
    "\tinput_tensor=Input(shape=(224, 224, 3)))\n",
    "\n",
    "# construct the head of the model that will be placed on top of the\n",
    "# the base model\n",
    "headModel = baseModel.output\n",
    "headModel = AveragePooling2D(pool_size=(7, 7))(headModel)\n",
    "headModel = Flatten(name=\"flatten\")(headModel)\n",
    "headModel = Dense(128, activation=\"relu\")(headModel)\n",
    "headModel = Dropout(0.5)(headModel)\n",
    "headModel = Dense(2, activation=\"softmax\")(headModel)\n",
    "\n",
    "# place the head FC model on top of the base model (this will become\n",
    "# the actual model we will train)\n",
    "model = Model(inputs=baseModel.input, outputs=headModel)\n",
    "\n",
    "# loop over all layers in the base model and freeze them so they will\n",
    "# *not* be updated during the first training process\n",
    "for layer in baseModel.layers:\n",
    "\tlayer.trainable = False\n",
    "\n",
    "# compile our model\n",
    "print(\"[INFO] compiling model...\")\n",
    "opt = Adam(lr=INIT_LR, decay=INIT_LR / EPOCHS)\n",
    "model.compile(loss=\"binary_crossentropy\", optimizer=opt,\n",
    "\tmetrics=[\"accuracy\"])\n",
    "\n",
    "# train the head of the network\n",
    "print(\"[INFO] training head...\")\n",
    "H = model.fit(\n",
    "\taug.flow(trainX, trainY, batch_size=BS),\n",
    "\tsteps_per_epoch=len(trainX) // BS,\n",
    "\tvalidation_data=(testX, testY),\n",
    "\tvalidation_steps=len(testX) // BS,\n",
    "\tepochs=EPOCHS)\n",
    "\n",
    "# make predictions on the testing set\n",
    "print(\"[INFO] evaluating network...\")\n",
    "predIdxs = model.predict(testX, batch_size=BS)\n",
    "\n",
    "# for each image in the testing set we need to find the index of the\n",
    "# label with corresponding largest predicted probability\n",
    "predIdxs = np.argmax(predIdxs, axis=1)\n",
    "\n",
    "# show a nicely formatted classification report\n",
    "print(classification_report(testY.argmax(axis=1), predIdxs,\n",
    "\ttarget_names=lb.classes_))\n",
    "\n",
    "# serialize the model to disk\n",
    "print(\"[INFO] saving mask detector model...\")\n",
    "model.save(\"mask_detector.model\", save_format=\"h5\")"
   ]
  },
  {
   "cell_type": "markdown",
   "metadata": {
    "id": "dXli7x2E509d"
   },
   "source": [
    "<b> Training loss and accuracy"
   ]
  },
  {
   "cell_type": "code",
   "execution_count": null,
   "metadata": {
    "id": "HZLhdEEk509e"
   },
   "outputs": [],
   "source": [
    "# plot the training loss and accuracy\n",
    "N = EPOCHS\n",
    "plt.style.use(\"ggplot\")\n",
    "plt.figure()\n",
    "plt.plot(np.arange(0, N), H.history[\"loss\"], label=\"train_loss\")\n",
    "plt.plot(np.arange(0, N), H.history[\"val_loss\"], label=\"val_loss\")\n",
    "plt.plot(np.arange(0, N), H.history[\"accuracy\"], label=\"train_acc\")\n",
    "plt.plot(np.arange(0, N), H.history[\"val_accuracy\"], label=\"val_acc\")\n",
    "plt.title(\"Training Loss and Accuracy\")\n",
    "plt.xlabel(\"Epoch #\")\n",
    "plt.ylabel(\"Loss/Accuracy\")\n",
    "plt.legend(loc=\"lower left\")\n",
    "plt.savefig(\"plot.png\")"
   ]
  }
 ],
 "metadata": {
  "colab": {
   "collapsed_sections": [],
   "machine_shape": "hm",
   "name": "Face_Mask_Detector_Model_Training.ipynb",
   "provenance": []
  },
  "kernelspec": {
   "display_name": "Python 3",
   "language": "python",
   "name": "python3"
  },
  "language_info": {
   "codemirror_mode": {
    "name": "ipython",
    "version": 3
   },
   "file_extension": ".py",
   "mimetype": "text/x-python",
   "name": "python",
   "nbconvert_exporter": "python",
   "pygments_lexer": "ipython3",
   "version": "3.8.5"
  }
 },
 "nbformat": 4,
 "nbformat_minor": 1
}
